{
 "cells": [
  {
   "attachments": {},
   "cell_type": "markdown",
   "metadata": {},
   "source": [
    "## Loading Original GLENet KITTI INFOS [IGNORE]\n",
    "### Refer to GLENet here: https://github.com/Eaphan/GLENet"
   ]
  },
  {
   "cell_type": "code",
   "execution_count": 26,
   "metadata": {},
   "outputs": [
    {
     "name": "stdout",
     "output_type": "stream",
     "text": [
      "3712\n",
      "(25099, 7)\n"
     ]
    }
   ],
   "source": [
    "# import pickle\n",
    "# import numpy as np\n",
    "# from scipy import stats\n",
    "\n",
    "# with open(\"/home/hpaat/my_exp/GLENet/data/kitti/github/kitti_infos_train.pkl\", \"rb\") as fg:\n",
    "#     infos_train_unc = pickle.load(fg)\n",
    "\n",
    "# print(len(infos_train_unc))\n",
    "# all_unc = infos_train_unc[0]['annos']['uncertainty']\n",
    "# for item in infos_train_unc[1:]:\n",
    "#     all_unc = np.concatenate((all_unc, item['annos']['uncertainty']), axis=0)\n",
    "# print(all_unc.shape)"
   ]
  },
  {
   "cell_type": "code",
   "execution_count": 27,
   "metadata": {},
   "outputs": [
    {
     "name": "stdout",
     "output_type": "stream",
     "text": [
      "(15654, 7)\n"
     ]
    }
   ],
   "source": [
    "# index = []\n",
    "# for idx, item in enumerate(all_unc):\n",
    "#     if (item==-1).sum() < 7:\n",
    "#         index.append(idx)\n",
    "\n",
    "# all_unc_final = all_unc[index]\n",
    "# print(all_unc_final.shape)"
   ]
  },
  {
   "cell_type": "code",
   "execution_count": 28,
   "metadata": {},
   "outputs": [
    {
     "name": "stdout",
     "output_type": "stream",
     "text": [
      "[0.01803638 0.01261752 0.00428109 0.02579221 0.0011201  0.00179757\n",
      " 0.01957782]\n"
     ]
    }
   ],
   "source": [
    "# # Get mean per box parameter weight\n",
    "# print(all_unc_final.mean(axis=0))\n",
    "# # Get std per box parameter weight\n",
    "# print(all_unc_final.std(axis=0))"
   ]
  },
  {
   "attachments": {},
   "cell_type": "markdown",
   "metadata": {},
   "source": [
    "## Create Histogram Function"
   ]
  },
  {
   "cell_type": "code",
   "execution_count": 30,
   "metadata": {},
   "outputs": [],
   "source": [
    "import matplotlib.pyplot as plt\n",
    "\n",
    "def create_histogram(data, bins=10, xlabel='Value', ylabel='Frequency', title='Dist of Values'):\n",
    "\n",
    "    # Create a histogram\n",
    "    plt.hist(data, bins=bins, edgecolor='black')\n",
    "\n",
    "    # Set plot labels and title\n",
    "    plt.xlabel(xlabel)\n",
    "    plt.ylabel(ylabel)\n",
    "    plt.title(title)\n",
    "\n",
    "    # Display the plot\n",
    "    plt.show()\n",
    "\n",
    "# for idx in range(7):\n",
    "#     create_histogram(all_unc_final[:,idx], bins=100)"
   ]
  },
  {
   "attachments": {},
   "cell_type": "markdown",
   "metadata": {},
   "source": [
    "## MY OWN UNC with GLENET\n",
    "## Add uncertainties to KITTI dbinfos and infos file"
   ]
  },
  {
   "cell_type": "markdown",
   "metadata": {},
   "source": [
    "### kitti_dbinfos"
   ]
  },
  {
   "cell_type": "code",
   "execution_count": 31,
   "metadata": {},
   "outputs": [
    {
     "name": "stdout",
     "output_type": "stream",
     "text": [
      "13419\n"
     ]
    }
   ],
   "source": [
    "dbinfos_path = \"/home/hpaat/my_exp/GLENet/data/kitti/kitti_dbinfos_train_ori.pkl\"        #/home/hpaat/my_exp/GLENet_v2/data/kitti/kitti_dbinfos_train_ori.pkl\n",
    "\n",
    "with open(dbinfos_path, \"rb\") as fg:\n",
    "    dbinfos_train_file = pickle.load(fg)\n",
    "\n",
    "print(len(dbinfos_train_file['Car']))\n",
    "\n",
    "# all_unc = infos_train_unc[0]['annos']['uncertainty']\n",
    "# for item in infos_train_unc[1:]:\n",
    "#     all_unc = np.concatenate((all_unc, item['annos']['uncertainty']), axis=0)\n",
    "# print(all_unc.shape)"
   ]
  },
  {
   "cell_type": "code",
   "execution_count": 32,
   "metadata": {},
   "outputs": [
    {
     "name": "stdout",
     "output_type": "stream",
     "text": [
      "dict_keys(['name', 'path', 'image_idx', 'gt_idx', 'box3d_lidar', 'num_points_in_gt', 'difficulty', 'bbox', 'score'])\n",
      "13419\n"
     ]
    }
   ],
   "source": [
    "print(dbinfos_train_file['Car'][0].keys())\n",
    "print(len(dbinfos_train_file['Car']))"
   ]
  },
  {
   "cell_type": "markdown",
   "metadata": {},
   "source": [
    "### kitti_infos"
   ]
  },
  {
   "cell_type": "code",
   "execution_count": 33,
   "metadata": {},
   "outputs": [
    {
     "name": "stdout",
     "output_type": "stream",
     "text": [
      "3222\n"
     ]
    }
   ],
   "source": [
    "infos_path = \"/home/hpaat/my_exp/GLENet/data/kitti/kitti_infos_train_ori.pkl\" # \"/home/hpaat/my_exp/GLENet_v2/data/kitti/kitti_infos_train_ori.pkl\"        #\"/home/hpaat/my_exp/GLENet/data/kitti/kitti_infos_train_ori.pkl\"\n",
    "\n",
    "with open(infos_path, \"rb\") as fg:\n",
    "    infos_train_file = pickle.load(fg)\n",
    " \n",
    "print(len(infos_train_file))\n",
    "# [0.0451523 , 0.01116733, 0.01491185, 0.08852343, 0.03435504, 0.01728673, 0.01341452]"
   ]
  },
  {
   "cell_type": "code",
   "execution_count": 34,
   "metadata": {},
   "outputs": [],
   "source": [
    "# print(infos_train_file[0]['annos']['uncertainty'])"
   ]
  },
  {
   "cell_type": "code",
   "execution_count": 35,
   "metadata": {},
   "outputs": [],
   "source": [
    "# combined_array = []\n",
    "# for i in range(len(infos_train_file)):\n",
    "#     try: combined_array = np.concatenate((combined_array, infos_train_file[i]['annos']['uncertainty']), axis=0)\n",
    "#     except: combined_array = infos_train_file[i]['annos']['uncertainty']\n",
    "\n",
    "# epis = combined_array"
   ]
  },
  {
   "attachments": {},
   "cell_type": "markdown",
   "metadata": {},
   "source": [
    "## READ THE CONF FILES from MTrans-Evidential"
   ]
  },
  {
   "cell_type": "code",
   "execution_count": 36,
   "metadata": {},
   "outputs": [
    {
     "name": "stdout",
     "output_type": "stream",
     "text": [
      "dict_keys(['pred', 'target', 'conf', 'error', 'alea', 'beta', 'alpha', 'v', 'iou3d', 'var'])\n"
     ]
    }
   ],
   "source": [
    "# Load the training file\n",
    "medlu_path = \"/home/hpaat/my_exp/MTrans-evidential/output/evi_loss_only_levi_full_ldir_v19.03500.8.v11/conf/conf_299_val.pkl_genlabel_train.pkl\"\n",
    "mcdo_path = \"/home/hpaat/my_exp/MTrans-evidential/output/MCDO/conf_train_d1-5.pkl\"\n",
    "ensemble_path = \"/home/hpaat/my_exp/MTrans-evidential/output/Ensemble/conf_train_v20-24.pkl\"\n",
    "conf_mtrans_path = \"/home/hpaat/my_exp/MTrans-evidential/output/vanilla_mtrans_v3/conf/conf_not_evi.pkl\"\n",
    "conf_path = medlu_path # \"/home/hpaat/my_exp/MTrans-evidential/output/Ensemble/v20/conf_train_v20.pkl\"\n",
    "\n",
    "with open(conf_path, \"rb\") as fg:\n",
    "    conf_file = pickle.load(fg)\n",
    "\n",
    "try:\n",
    "    print(conf_file.keys())\n",
    "except:                             # if saved mcdo or ensemble variance pkl\n",
    "    print(conf_file.shape)"
   ]
  },
  {
   "cell_type": "code",
   "execution_count": 37,
   "metadata": {},
   "outputs": [
    {
     "name": "stdout",
     "output_type": "stream",
     "text": [
      "EDL output\n",
      "saved mcdo or ensemble output\n"
     ]
    }
   ],
   "source": [
    "# This block of code is for Evidential DL Output\n",
    "# Define epistemic uncertainties\n",
    "try:\n",
    "    print(\"EDL output\")\n",
    "    alea = conf_file['alea']\n",
    "    beta = conf_file['beta']\n",
    "    alpha = conf_file['alpha']\n",
    "    v = conf_file['v']\n",
    "    if alpha is not None: \n",
    "        epis = beta / (v * (alpha - 1))\n",
    "        confidence = np.sqrt(1. / ((alpha-1) * v)) \n",
    "except: \n",
    "    alpha = 1.0     # dummy_alpha\n",
    "    print(\"MTrans pred iou output\")\n",
    "    epis = conf_file['pred_iou'].reshape(-1,1)\n",
    "    iou3d = conf_file['iou3d']\n",
    "\n",
    "    epis = np.tile(epis, (1, 7))\n",
    "\n",
    "    print(epis.shape)\n",
    "\n",
    "if alpha is None:\n",
    "    # This block of code is for MCDO or Ensemble saved variance\n",
    "    print(\"saved mcdo or ensemble output\")\n",
    "    epis = conf_file['var']\n",
    "    #print(conf_file)"
   ]
  },
  {
   "cell_type": "markdown",
   "metadata": {},
   "source": [
    "## Combine Train and Val to get DBINFOS TRAINVAL [Can Skip]"
   ]
  },
  {
   "cell_type": "code",
   "execution_count": null,
   "metadata": {},
   "outputs": [],
   "source": [
    "medlu_path_1 = \"/home/hpaat/my_exp/MTrans-evidential/output/evi_loss_only_levi_full_ldir_v19.03500.8.4.v2/conf/conf_299_val.pkl_genlabel_train.pkl\"\n",
    "medlu_path_2 = \"/home/hpaat/my_exp/MTrans-evidential/output/evi_loss_only_levi_full_ldir_v19.03500.8.4.v2/conf/conf_299_val.pkl_genlabel_val.pkl\"\n",
    "\n",
    "with open(medlu_path_1, \"rb\") as fg1:\n",
    "    conf_file_1 = pickle.load(fg1)\n",
    "\n",
    "with open(medlu_path_2, \"rb\") as fg2:\n",
    "    conf_file_2 = pickle.load(fg2)\n",
    "\n",
    "beta_1 = conf_file_1['beta']\n",
    "alpha_1 = conf_file_1['alpha']\n",
    "v_1 = conf_file_1['v']\n",
    "beta_2 = conf_file_2['beta']\n",
    "alpha_2 = conf_file_2['alpha']\n",
    "v_2 = conf_file_2['v']\n",
    "if alpha_1 is not None: \n",
    "    epis_1 = beta_1 / (v_1 * (alpha_1 - 1)) \n",
    "    epis_2 = beta_2 / (v_2 * (alpha_2 - 1)) \n",
    "\n",
    "print(len(epis_1)) \n",
    "print(len(epis_2))"
   ]
  },
  {
   "cell_type": "code",
   "execution_count": null,
   "metadata": {},
   "outputs": [],
   "source": [
    "# Get dbinfos trainval\n",
    "combine_dbinfos = True\n",
    "\n",
    "def func_combine_dbinfos(dbinfos_path_1, dbinfos_path_2, epis_1, epis_2):\n",
    "    with open(dbinfos_path_1, \"rb\") as fg1:\n",
    "        dbinfos_train_file_1 = pickle.load(fg1)\n",
    "        # print(len(dbinfos_train_file_1['Car'])) --> 13419\n",
    "\n",
    "    with open(dbinfos_path_2, \"rb\") as fg2:\n",
    "        dbinfos_train_file_2 = pickle.load(fg2)\n",
    "        # print(len(dbinfos_train_file_2['Car'])) --> 13726\n",
    "\n",
    "    # Last values\n",
    "    print(float(dbinfos_train_file_1['Car'][13418]['image_idx']))\n",
    "    print(float(dbinfos_train_file_2['Car'][13725]['image_idx']))\n",
    "\n",
    "    idx1, idx2 = 0, 0\n",
    "\n",
    "    dbinfos_trainval_file = {}\n",
    "    dbinfos_trainval_file['Car'] = []\n",
    "    final_epis = np.zeros((1,7), dtype=np.float32)\n",
    "    \n",
    "    while idx2 < 13726:\n",
    "        # print(idx1, idx2)\n",
    "        if idx1 == 13419: # out of bounds for dbinfos_train_file_1\n",
    "            dbinfos_trainval_file['Car'].append(dbinfos_train_file_2['Car'][idx2])\n",
    "            final_epis = np.concatenate((final_epis, epis_2[idx2].reshape(1,-1)), axis=0)\n",
    "            idx2 += 1\n",
    "        elif float(dbinfos_train_file_1['Car'][idx1]['image_idx']) < float(dbinfos_train_file_2['Car'][idx2]['image_idx']):\n",
    "            dbinfos_trainval_file['Car'].append(dbinfos_train_file_1['Car'][idx1])\n",
    "            final_epis = np.concatenate((final_epis, epis_1[idx1].reshape(1,-1)), axis=0)\n",
    "            idx1 += 1\n",
    "        else:\n",
    "            dbinfos_trainval_file['Car'].append(dbinfos_train_file_2['Car'][idx2])\n",
    "            final_epis = np.concatenate((final_epis, epis_2[idx2].reshape(1,-1)), axis=0)\n",
    "            idx2 += 1\n",
    "    # dbinfos_trainval_file['Car'].append(dbinfos_train_file_2['Car'][idx2])\n",
    "    final_epis = final_epis[1:,:]\n",
    "    return dbinfos_trainval_file, final_epis\n",
    "\n",
    "dbinfos_path_1 = \"/home/hpaat/my_exp/GLENet/data/kitti/kitti_dbinfos_train_ori.pkl\"\n",
    "dbinfos_path_2 = \"/home/hpaat/my_exp/GLENet/data/kitti/kitti_dbinfos_val_ori.pkl\"\n",
    "if combine_dbinfos:\n",
    "    dbinfos_trainval_file, final_epis = func_combine_dbinfos(dbinfos_path_1, dbinfos_path_2, epis_1, epis_2)\n",
    "    print(len(dbinfos_trainval_file['Car']))\n",
    "    print(len(final_epis))\n",
    "\n",
    "dbinfos_train_file, epis = dbinfos_trainval_file.copy(), final_epis.copy()"
   ]
  },
  {
   "cell_type": "code",
   "execution_count": null,
   "metadata": {},
   "outputs": [],
   "source": [
    "print(dbinfos_trainval_file['Car'][0])"
   ]
  },
  {
   "cell_type": "markdown",
   "metadata": {},
   "source": [
    "# Post-processing the Epistemic Uncertainties"
   ]
  },
  {
   "cell_type": "code",
   "execution_count": 38,
   "metadata": {},
   "outputs": [
    {
     "name": "stdout",
     "output_type": "stream",
     "text": [
      "(13419, 7)\n"
     ]
    }
   ],
   "source": [
    "# Sanity check on the shape and the uncertainties/pred_iou\n",
    "print(epis.shape)"
   ]
  },
  {
   "cell_type": "code",
   "execution_count": 39,
   "metadata": {},
   "outputs": [
    {
     "name": "stdout",
     "output_type": "stream",
     "text": [
      "0.00032676602   17.303516   0.047058575\n",
      "9.52866e-05   5.9202976   0.010072653\n",
      "2.5281737e-05   0.04838821   0.00046251365\n",
      "0.004445548   0.13323729   0.015948504\n",
      "0.00061593164   0.016180212   0.0021663904\n",
      "6.821677e-05   0.01055258   0.0006132895\n",
      "0.9226947   2.1822832   1.3867042\n"
     ]
    }
   ],
   "source": [
    "# Perform min-max scaling\n",
    "if True:\n",
    "    for idx in range(7):\n",
    "        print(min(epis[:, idx]), end = \"   \")\n",
    "        print(max(epis[:, idx]), end = \"   \")\n",
    "        print(np.mean(epis[:, idx]))\n",
    "        epis[:, idx] = (epis[:, idx]-min(epis[:, idx])) / (max(epis[:, idx]) - min(epis[:, idx]))       # + np.mean(epis[:, idx])*0.10      # + 5e-3   # + 1e-6"
   ]
  },
  {
   "cell_type": "code",
   "execution_count": 40,
   "metadata": {},
   "outputs": [],
   "source": [
    "# Set combine to True if you want to define the uncertainty as combination of epistemic and aleatoric uncertainty\n",
    "combine= False\n",
    "if combine:\n",
    "    # Perform min-max scaling\n",
    "    for idx in range(7):\n",
    "        print(min(alea[:, idx]))\n",
    "        print(max(alea[:, idx]))\n",
    "        alea[:, idx] = (alea[:, idx]-min(alea[:, idx])) / (max(alea[:, idx]) - min(alea[:, idx])) + 1e-3\n",
    "\n",
    "    epis = alea+epis"
   ]
  },
  {
   "cell_type": "code",
   "execution_count": 41,
   "metadata": {},
   "outputs": [],
   "source": [
    "# Determine outliers and remove them    # IGNORE\n",
    "remove_outlier = False\n",
    "if remove_outlier:\n",
    "    for idx in range(7):\n",
    "        # Calculate quartiles\n",
    "        q1 = np.percentile(epis[:, idx], 25) #25\n",
    "        q3 = np.percentile(epis[:, idx], 95) #95\n",
    "\n",
    "        # Calculate the IQR\n",
    "        iqr = q3 - q1\n",
    "\n",
    "        # Define the lower and upper bounds for outliers\n",
    "        lower_bound = q1 - 1.5 * iqr\n",
    "        upper_bound = q3 + 1.5 * iqr\n",
    "\n",
    "        # Identify outliers\n",
    "        outliers = [x for x in epis[:, idx] if x < lower_bound or x > upper_bound]\n",
    "\n",
    "        # Print the outliers\n",
    "        print(\"Outliers:\", len(outliers))\n",
    "        print((epis[:, idx]<lower_bound).sum())\n",
    "        print(upper_bound, '\\n')\n",
    "\n",
    "        epis[:,idx][epis[:,idx]>upper_bound] = upper_bound"
   ]
  },
  {
   "cell_type": "code",
   "execution_count": 42,
   "metadata": {},
   "outputs": [
    {
     "name": "stdout",
     "output_type": "stream",
     "text": [
      "1 1 1 1 1 1 1 "
     ]
    }
   ],
   "source": [
    "# Sanity check to see if there are zero-valued uncertainties\n",
    "for i in range(7):\n",
    "    print((epis[:,i]==0).sum(), end=\" \")"
   ]
  },
  {
   "cell_type": "code",
   "execution_count": 43,
   "metadata": {},
   "outputs": [
    {
     "name": "stdout",
     "output_type": "stream",
     "text": [
      "(1,)   (1,)   (1,)   (1,)   (1,)   (1,)   (1,)   "
     ]
    }
   ],
   "source": [
    "# Perform min-max scaling again after removing outliers\n",
    "if True:\n",
    "    for idx in range(7):\n",
    "        #epis[:, idx] = (epis[:, idx]-min(epis[:, idx])) / (max(epis[:, idx]) - min(epis[:, idx]))# + 1e-6 #+ np.mean(epis[:, idx])*0.10 #+ 1e-3\n",
    "        print(epis[:, idx][epis[:, idx]==0].shape, end=\"   \")\n",
    "        epis[:, idx][epis[:, idx]==0] += min([i for i in epis[:, idx] if i>0])      # No zero values"
   ]
  },
  {
   "cell_type": "code",
   "execution_count": 44,
   "metadata": {},
   "outputs": [
    {
     "name": "stdout",
     "output_type": "stream",
     "text": [
      "Mean and std\n",
      "[0.00270076 0.00168531 0.00904064 0.08931452 0.09961688 0.05198913\n",
      " 0.36838192]\n",
      "[0.03022946 0.02018968 0.0408501  0.0725564  0.07874776 0.07268206\n",
      " 0.17581756]\n",
      "\n",
      "Max and min\n",
      "[1. 1. 1. 1. 1. 1. 1.]\n",
      "[4.7023454e-07 9.8089220e-07 1.7774055e-05 1.2904310e-03 2.8731083e-03\n",
      " 1.4399852e-03 1.2130669e-03]\n"
     ]
    }
   ],
   "source": [
    "# Get mean per box parameter weight\n",
    "print(\"Mean and std\")\n",
    "print(epis.mean(axis=0))\n",
    "print(epis.std(axis=0))\n",
    "print()\n",
    "\n",
    "print(\"Max and min\")\n",
    "print(epis.max(axis=0))\n",
    "print(epis.min(axis=0))"
   ]
  },
  {
   "cell_type": "code",
   "execution_count": 45,
   "metadata": {},
   "outputs": [],
   "source": [
    "# DUMMY SWEET IGNORE\n",
    "# multiplier = []\n",
    "# for num in epis.mean(axis=0):\n",
    "#     multiplier.append(1/num)\n",
    "# print(multiplier)\n",
    "\n",
    "# for i in range(7):\n",
    "#     epis[:,i] = multiplier[i] * epis[:,i]"
   ]
  },
  {
   "cell_type": "code",
   "execution_count": 54,
   "metadata": {},
   "outputs": [
    {
     "data": {
      "image/png": "[encoded data removed]",
      "text/plain": [
       "<Figure size 640x480 with 1 Axes>"
      ]
     },
     "metadata": {},
     "output_type": "display_data"
    },
    {
     "data": {
      "image/png": "[encoded data removed]",
      "text/plain": [
       "<Figure size 640x480 with 1 Axes>"
      ]
     },
     "metadata": {},
     "output_type": "display_data"
    },
    {
     "data": {
      "image/png": "[encoded data removed]",
      "text/plain": [
       "<Figure size 640x480 with 1 Axes>"
      ]
     },
     "metadata": {},
     "output_type": "display_data"
    },
    {
     "data": {
      "image/png": "[encoded data removed]",
      "text/plain": [
       "<Figure size 640x480 with 1 Axes>"
      ]
     },
     "metadata": {},
     "output_type": "display_data"
    },
    {
     "data": {
      "image/png": "[encoded data removed]",
      "text/plain": [
       "<Figure size 640x480 with 1 Axes>"
      ]
     },
     "metadata": {},
     "output_type": "display_data"
    },
    {
     "data": {
      "image/png": "[encoded data removed]",
      "text/plain": [
       "<Figure size 640x480 with 1 Axes>"
      ]
     },
     "metadata": {},
     "output_type": "display_data"
    },
    {
     "data": {
      "image/png": "[encoded data removed]",
      "text/plain": [
       "<Figure size 640x480 with 1 Axes>"
      ]
     },
     "metadata": {},
     "output_type": "display_data"
    }
   ],
   "source": [
    "# Create Histogram\n",
    "for idx in range(7):\n",
    "    create_histogram(epis[:,idx], bins=100, xlabel='Uncertainty', title= '')"
   ]
  },
  {
   "cell_type": "code",
   "execution_count": null,
   "metadata": {},
   "outputs": [],
   "source": [
    "# Sanity check to make sure the order of stored boxes are right\n",
    "# Check the frames\n",
    "print(dbinfos_train_file['Car'][0])\n",
    "print(infos_train_file[0])\n",
    "# print(conf_file['pred'][0])\n",
    "# print(infos_train_unc[-1])\n",
    "# print(conf_file['pred'][-1])"
   ]
  },
  {
   "attachments": {},
   "cell_type": "markdown",
   "metadata": {},
   "source": [
    "## DO NOT RUN UNLESS NEEDED!!!\n",
    "## L2 residual as uncertainty"
   ]
  },
  {
   "cell_type": "code",
   "execution_count": null,
   "metadata": {},
   "outputs": [],
   "source": [
    "sqrd_res = np.sqrt((conf_file['target'] - conf_file['pred'])**2)\n",
    "print(sqrd_res.shape)\n",
    "\n",
    "# Perform min-max scaling\n",
    "for idx in range(7):\n",
    "    sqrd_res[:, idx] = (sqrd_res[:, idx]-min(sqrd_res[:, idx]))/(max(sqrd_res[:, idx]) - min(sqrd_res[:, idx])) + 1e-3\n",
    "\n",
    "# Create Histogram\n",
    "for idx in range(7):\n",
    "    print(sqrd_res[:,idx].mean())\n",
    "    print(sqrd_res[:,idx].std())\n",
    "    create_histogram(sqrd_res[:,idx], bins=100, xlabel='Uncertainty', title= '')"
   ]
  },
  {
   "attachments": {},
   "cell_type": "markdown",
   "metadata": {},
   "source": [
    "## DO NOT RUN UNLESS NEEDED!!!\n",
    "## Adding residual as uncertainty to KITTI Infos (for sqrd_res only)"
   ]
  },
  {
   "cell_type": "code",
   "execution_count": null,
   "metadata": {},
   "outputs": [],
   "source": [
    "dbinfos_train_file_new = dbinfos_train_file.copy()\n",
    "infos_train_file_new = infos_train_file.copy()\n",
    "\n",
    "for idx in range(len(dbinfos_train_file['Car'])):\n",
    "    dbinfos_train_file_new['Car'][idx]['uncertainty'] = np.array(sqrd_res[idx], dtype = np.float64)\n",
    "\n",
    "print(dbinfos_train_file_new['Car'][10])\n",
    "\n",
    "cntr = 0\n",
    "for idx in range(len(infos_train_file_new)):\n",
    "    len_this_idx = len(infos_train_file_new[idx]['annos']['name'])\n",
    "    infos_train_file_new[idx]['annos']['uncertainty'] = np.array(sqrd_res[cntr:cntr+len_this_idx], dtype = np.float64)\n",
    "    cntr += len_this_idx\n",
    "\n",
    "print(infos_train_file_new[100])"
   ]
  },
  {
   "cell_type": "code",
   "execution_count": null,
   "metadata": {},
   "outputs": [],
   "source": [
    "with open(\"/home/hpaat/my_exp/GLENet/data/kitti/kitti_dbinfos_train_res_unc.pkl\", 'wb') as fg:\n",
    "    pickle.dump(dbinfos_train_file_new, fg)\n",
    "\n",
    "with open(\"/home/hpaat/my_exp/GLENet/data/kitti/kitti_infos_train_res_unc.pkl\", 'wb') as fh:\n",
    "    pickle.dump(infos_train_file_new, fh)"
   ]
  },
  {
   "attachments": {},
   "cell_type": "markdown",
   "metadata": {},
   "source": [
    "## Adding uncertainty values to KITTI Infos Files"
   ]
  },
  {
   "cell_type": "code",
   "execution_count": null,
   "metadata": {},
   "outputs": [],
   "source": [
    "# DUMMY SWEET IGNORE\n",
    "# epis = np.zeros_like(epis, dtype=np.float32)  #+ np.random.uniform(0, 0.10, size=(13419, 7))\n",
    "# print(epis)"
   ]
  },
  {
   "cell_type": "code",
   "execution_count": null,
   "metadata": {},
   "outputs": [],
   "source": [
    "# DUMMY SWEET IGNORE\n",
    "# print(epis.std(0))\n",
    "# epis_mod = np.power(1/epis, 1/4)\n",
    "# print(epis_mod.mean(0))\n",
    "# print(epis_mod.std(0))"
   ]
  },
  {
   "cell_type": "code",
   "execution_count": 55,
   "metadata": {},
   "outputs": [],
   "source": [
    "dbinfos_train_file_new = dbinfos_train_file.copy()\n",
    "infos_train_file_new = infos_train_file.copy()"
   ]
  },
  {
   "cell_type": "code",
   "execution_count": 56,
   "metadata": {},
   "outputs": [
    {
     "name": "stdout",
     "output_type": "stream",
     "text": [
      "13419\n",
      "(13419, 7)\n"
     ]
    }
   ],
   "source": [
    "print(len(dbinfos_train_file_new['Car']))\n",
    "print(epis.shape)"
   ]
  },
  {
   "cell_type": "code",
   "execution_count": 57,
   "metadata": {},
   "outputs": [],
   "source": [
    "for idx in range(len(dbinfos_train_file['Car'])):\n",
    "    dbinfos_train_file_new['Car'][idx]['uncertainty'] = np.array(epis[idx], dtype = np.float64)"
   ]
  },
  {
   "cell_type": "code",
   "execution_count": 58,
   "metadata": {},
   "outputs": [
    {
     "name": "stdout",
     "output_type": "stream",
     "text": [
      "{'name': 'Car', 'path': 'gt_database/007472_Car_0.bin', 'image_idx': '007472', 'gt_idx': 0, 'box3d_lidar': array([67.48075867,  3.60879683, -0.75700933,  4.18      ,  1.72      ,\n",
      "        1.43      , -3.18079633]), 'num_points_in_gt': 5, 'difficulty': -1, 'bbox': array([560.57, 179.91, 582.47, 196.8 ], dtype=float32), 'score': -1.0, 'uncertainty': array([0.12340117, 0.04622778, 0.03188102, 0.25095907, 0.14701389,\n",
      "       0.13614126, 0.77491498])}\n"
     ]
    }
   ],
   "source": [
    "print(dbinfos_train_file_new['Car'][-15])"
   ]
  },
  {
   "cell_type": "code",
   "execution_count": 59,
   "metadata": {},
   "outputs": [],
   "source": [
    "cntr = 0\n",
    "for idx in range(len(infos_train_file_new)):\n",
    "    len_this_idx = len(infos_train_file_new[idx]['annos']['name'])\n",
    "    infos_train_file_new[idx]['annos']['uncertainty'] = np.array(epis[cntr:cntr+len_this_idx], dtype = np.float64)\n",
    "    cntr += len_this_idx"
   ]
  },
  {
   "cell_type": "code",
   "execution_count": 60,
   "metadata": {},
   "outputs": [
    {
     "name": "stdout",
     "output_type": "stream",
     "text": [
      "13419\n",
      "13419\n",
      "{'point_cloud': {'num_features': 4, 'lidar_idx': '000018'}, 'image': {'image_idx': '000018', 'image_shape': array([ 375, 1242], dtype=int32)}, 'calib': {'P2': array([[7.21537720e+02, 0.00000000e+00, 6.09559326e+02, 4.48572807e+01],\n",
      "       [0.00000000e+00, 7.21537720e+02, 1.72854004e+02, 2.16379106e-01],\n",
      "       [0.00000000e+00, 0.00000000e+00, 1.00000000e+00, 2.74588400e-03],\n",
      "       [0.00000000e+00, 0.00000000e+00, 0.00000000e+00, 1.00000000e+00]]), 'R0_rect': array([[ 0.9999239 ,  0.00983776, -0.00744505,  0.        ],\n",
      "       [-0.0098698 ,  0.9999421 , -0.00427846,  0.        ],\n",
      "       [ 0.00740253,  0.00435161,  0.9999631 ,  0.        ],\n",
      "       [ 0.        ,  0.        ,  0.        ,  1.        ]],\n",
      "      dtype=float32), 'Tr_velo_to_cam': array([[ 7.53374491e-03, -9.99971390e-01, -6.16602018e-04,\n",
      "        -4.06976603e-03],\n",
      "       [ 1.48024904e-02,  7.28073297e-04, -9.99890208e-01,\n",
      "        -7.63161778e-02],\n",
      "       [ 9.99862075e-01,  7.52379000e-03,  1.48075502e-02,\n",
      "        -2.71780610e-01],\n",
      "       [ 0.00000000e+00,  0.00000000e+00,  0.00000000e+00,\n",
      "         1.00000000e+00]])}, 'annos': {'name': array(['Car'], dtype='<U3'), 'truncated': array([0.]), 'occluded': array([0.]), 'alpha': array([-1.58]), 'bbox': array([[523.41, 194.53, 550.65, 219.39]], dtype=float32), 'dimensions': array([[4.42, 1.44, 1.66]]), 'location': array([[-4.82,  2.9 , 47.05]], dtype=float32), 'rotation_y': array([-1.68]), 'score': array([-1.]), 'difficulty': array([1], dtype=int32), 'index': array([0], dtype=int32), 'gt_boxes_lidar': array([[47.34950638,  4.85425282, -1.70931602,  4.42      ,  1.66      ,\n",
      "         1.44      ,  0.10920367]]), 'num_points_in_gt': array([29], dtype=int32), 'uncertainty': array([[0.09007647, 0.06486107, 0.01419397, 0.22499631, 0.09781941,\n",
      "        0.06599297, 0.4025909 ]])}}\n"
     ]
    }
   ],
   "source": [
    "# Sanity check\n",
    "print(cntr)\n",
    "print(len(dbinfos_train_file['Car']))\n",
    "print(infos_train_file_new[10])"
   ]
  },
  {
   "cell_type": "code",
   "execution_count": 61,
   "metadata": {},
   "outputs": [
    {
     "name": "stdout",
     "output_type": "stream",
     "text": [
      "[[0.06775262 0.0580292  0.02603772 0.15040608 0.12820388 0.05734812\n",
      "  0.61198473]\n",
      " [0.06606802 0.04595364 0.01904787 0.14369367 0.10335493 0.03274534\n",
      "  0.61769193]\n",
      " [0.07599144 0.04551854 0.02156095 0.1556709  0.12439235 0.04748956\n",
      "  0.61215758]\n",
      " [0.09803338 0.08854234 0.02937141 0.21927744 0.1172908  0.02924324\n",
      "  0.53211075]\n",
      " [0.03261089 0.04469471 0.00812899 0.05993189 0.05380609 0.0096275\n",
      "  0.87153667]\n",
      " [0.05589486 0.0634377  0.01869504 0.10129751 0.10275134 0.02195192\n",
      "  0.80035639]\n",
      " [0.14376225 0.08065616 0.05133908 0.26596418 0.26568413 0.1031424\n",
      "  0.52414346]]\n"
     ]
    }
   ],
   "source": [
    "print(infos_train_file_new[-6]['annos']['uncertainty'])"
   ]
  },
  {
   "cell_type": "code",
   "execution_count": 62,
   "metadata": {},
   "outputs": [],
   "source": [
    "# SAVE the new dbinfos train and infos train files for training in the OpenPCDet source code\n",
    "with open(\"/home/hpaat/my_exp/GLENet/data/kitti/kitti_dbinfos_train_new.pkl\", 'wb') as fg:\n",
    "    pickle.dump(dbinfos_train_file_new, fg)\n",
    "\n",
    "with open(\"/home/hpaat/my_exp/GLENet/data/kitti/kitti_infos_train_new.pkl\", 'wb') as fh:\n",
    "    pickle.dump(infos_train_file_new, fh)"
   ]
  },
  {
   "cell_type": "markdown",
   "metadata": {},
   "source": [
    "# Uncertainty Evaluation"
   ]
  },
  {
   "attachments": {},
   "cell_type": "markdown",
   "metadata": {},
   "source": [
    "## Verify Epistemic Spearman Correlation with the Residual"
   ]
  },
  {
   "cell_type": "code",
   "execution_count": 47,
   "metadata": {},
   "outputs": [
    {
     "name": "stdout",
     "output_type": "stream",
     "text": [
      "0.4637500989549547 0.5573009643771378 0.3972499728813492 0.3286140026105786 0.3146557368490118 0.3906354797194363 0.1598932489517828 "
     ]
    }
   ],
   "source": [
    "# for i in range(7):\n",
    "#     print(str(stats.spearmanr(sqrd_res[:,i], np.sqrt((conf_file['target']-conf_file['pred'])**2)[:,i])[0]))\n",
    "\n",
    "# Spearman rank correlation of uncertainty and L2 norm of the residual\n",
    "for i in range(7):\n",
    "    print(str(stats.spearmanr(epis[:,i], np.sqrt((conf_file['target']-conf_file['pred'])**2)[:,i])[0]), end=\" \")"
   ]
  },
  {
   "cell_type": "code",
   "execution_count": null,
   "metadata": {},
   "outputs": [],
   "source": [
    "# beta-l2 residual correlation\n",
    "for i in range(7):\n",
    "    print(str(stats.spearmanr(conf_file['beta'][:,i], np.sqrt((conf_file['target']-conf_file['pred'])**2)[:,i])[0]))"
   ]
  },
  {
   "cell_type": "code",
   "execution_count": null,
   "metadata": {},
   "outputs": [],
   "source": [
    "# v-l2 residual correlation\n",
    "for i in range(7):\n",
    "    print(str(stats.spearmanr(conf_file['v'][:,i], np.sqrt((conf_file['target']-conf_file['pred'])**2)[:,i])[0]))"
   ]
  },
  {
   "cell_type": "code",
   "execution_count": null,
   "metadata": {},
   "outputs": [],
   "source": [
    "# alpha-l2 residual correlation\n",
    "for i in range(7):\n",
    "    print(str(stats.spearmanr(conf_file['alpha'][:,i], np.sqrt((conf_file['target']-conf_file['pred'])**2)[:,i])[0]))"
   ]
  },
  {
   "cell_type": "markdown",
   "metadata": {},
   "source": [
    "## Defining Total Object Uncertainty [CAN IGNORE]"
   ]
  },
  {
   "cell_type": "code",
   "execution_count": null,
   "metadata": {},
   "outputs": [],
   "source": [
    "print(conf_file['pred'].shape)\n",
    "\n",
    "monig = {}\n",
    "init_pred = conf_file['pred'][:,0].copy()\n",
    "init_v = conf_file['v'][:,0].copy()\n",
    "init_alpha = conf_file['alpha'][:,0].copy()\n",
    "init_beta = conf_file['beta'][:,0].copy()\n",
    "\n",
    "for i in range(1,7):\n",
    "    monig['pred'] = ((init_pred + conf_file['v'][:,i])**(-1)) * (init_v*init_pred + conf_file['v'][:,i]*conf_file['pred'][:,i])\n",
    "    monig['alpha'] = init_alpha + conf_file['alpha'][:,i] + 0.50\n",
    "    monig['v'] = init_v + conf_file['v'][:,i]\n",
    "    monig['beta'] = init_beta + conf_file['beta'][:,i] + 0.50*init_v*(init_pred - monig['pred'])**2 + 0.50*conf_file['v'][:,i]*(conf_file['pred'][:,i]- monig['pred'])**2 \n",
    "    init_pred = monig['pred'].copy()\n",
    "    init_v =  monig['v'].copy()\n",
    "    init_alpha =  monig['alpha'].copy()\n",
    "    init_beta =  monig['beta'].copy()"
   ]
  },
  {
   "cell_type": "code",
   "execution_count": null,
   "metadata": {},
   "outputs": [],
   "source": [
    "print(monig)"
   ]
  },
  {
   "cell_type": "code",
   "execution_count": null,
   "metadata": {},
   "outputs": [],
   "source": [
    "unc_whole = monig['beta'] / (monig['v'] * (monig['alpha'] - 1))"
   ]
  },
  {
   "cell_type": "code",
   "execution_count": null,
   "metadata": {},
   "outputs": [],
   "source": [
    "print(unc_whole)"
   ]
  },
  {
   "cell_type": "code",
   "execution_count": null,
   "metadata": {},
   "outputs": [],
   "source": [
    "unc_whole = (unc_whole-min(unc_whole)) / (max(unc_whole) - min(unc_whole)) + 1e-3"
   ]
  },
  {
   "cell_type": "code",
   "execution_count": null,
   "metadata": {},
   "outputs": [],
   "source": [
    "# Determine outliers and remove them\n",
    "# Calculate quartiles\n",
    "q1 = np.percentile(unc_whole, 25)\n",
    "q3 = np.percentile(unc_whole, 95)\n",
    "\n",
    "# Calculate the IQR\n",
    "iqr = q3 - q1\n",
    "\n",
    "# Define the lower and upper bounds for outliers\n",
    "lower_bound = q1 - 1.5 * iqr\n",
    "upper_bound = q3 + 1.5 * iqr\n",
    "\n",
    "# Identify outliers\n",
    "outliers = [x for x in unc_whole if x < lower_bound or x > upper_bound]\n",
    "\n",
    "# Print the outliers\n",
    "print(\"Outliers:\", len(outliers))\n",
    "print((unc_whole<lower_bound).sum())\n",
    "print(upper_bound, '\\n')\n",
    "\n",
    "unc_whole[unc_whole>upper_bound] = upper_bound"
   ]
  },
  {
   "cell_type": "code",
   "execution_count": null,
   "metadata": {},
   "outputs": [],
   "source": [
    "unc_whole = (unc_whole-min(unc_whole)) / (max(unc_whole) - min(unc_whole)) + 1e-6"
   ]
  },
  {
   "cell_type": "code",
   "execution_count": null,
   "metadata": {},
   "outputs": [],
   "source": [
    "create_histogram(unc_whole, bins=100, xlabel='Uncertainty', title= '')"
   ]
  },
  {
   "cell_type": "markdown",
   "metadata": {},
   "source": [
    "## Negative Log Likelihood"
   ]
  },
  {
   "cell_type": "code",
   "execution_count": 48,
   "metadata": {},
   "outputs": [],
   "source": [
    "# Iterate over all observations\n",
    "def calc_nll(kappa, conf_file, epis, lim=1994):         #1994\n",
    "    nll_final_7 = []\n",
    "    for i in range(7):\n",
    "        nll_temp = -stats.norm.logpdf(conf_file['target'][:lim,i],\n",
    "                                    loc = conf_file['pred'][:lim,i], \n",
    "                                    scale = epis[:lim,i]**(1/kappa[i])) #2.7183**(-kappa[i]* epis[:lim,i])) # \n",
    "\n",
    "        nll_final_7.append(np.mean(nll_temp))\n",
    "\n",
    "    # print(nll_final_7)\n",
    "    return nll_final_7               "
   ]
  },
  {
   "cell_type": "code",
   "execution_count": 49,
   "metadata": {},
   "outputs": [
    {
     "name": "stdout",
     "output_type": "stream",
     "text": [
      "[-0.7395291924588939, -1.7966664709284623, -2.7139296913565003, -0.8456615564872605, -1.5082201452220487, -2.322914802963969, 1.10342142038215]\n",
      "[3.360000000000002, 2.6600000000000015, 1.4600000000000004, 1.2500000000000002, 1.0, 1.0, 2.0500000000000007]\n"
     ]
    }
   ],
   "source": [
    "# Find optimal factor that minimizes NLL\n",
    "import numpy as np\n",
    "final_nll = [100]*7\n",
    "final_i = [0]*7\n",
    "for i in np.arange(1,10,0.01):\n",
    "    result = calc_nll([i]*7, conf_file, epis) #,lim=50000) # NOTE limit modified\n",
    "    for j,nll in enumerate(result):\n",
    "        if nll < final_nll[j]:\n",
    "            final_nll[j] = nll\n",
    "            final_i[j] = i\n",
    "\n",
    "print(final_nll)\n",
    "print(final_i)"
   ]
  },
  {
   "cell_type": "code",
   "execution_count": 50,
   "metadata": {},
   "outputs": [],
   "source": [
    "# Redefine epis\n",
    "saved_kappa = False\n",
    "if saved_kappa:\n",
    "    kappa = [9.990000000000007, 5.610000000000004, 2.110000000000001, 2.220000000000001, 1.6300000000000006, 1.6200000000000006, 3.8900000000000023] # medlu-500 do not delete\n",
    "else:\n",
    "    kappa = final_i.copy()\n",
    "for i in range(7):\n",
    "    epis[:,i] = epis[:,i]**(1/kappa[i])"
   ]
  },
  {
   "cell_type": "code",
   "execution_count": 51,
   "metadata": {},
   "outputs": [
    {
     "name": "stdout",
     "output_type": "stream",
     "text": [
      "<class 'numpy.ndarray'>\n",
      "[0.06726924 0.01797246 0.00870755 0.10611138 0.05074953 0.01758058\n",
      " 0.7401668 ]\n"
     ]
    }
   ],
   "source": [
    "print(type(epis))\n",
    "for i in epis:\n",
    "    print(i)\n",
    "    break"
   ]
  },
  {
   "cell_type": "code",
   "execution_count": 63,
   "metadata": {},
   "outputs": [],
   "source": [
    "# Save epis to text\n",
    "for row in epis:\n",
    "    with open(\"/home/hpaat/my_exp/GLENet_v3/data/kitti/testing/unc_0004.txt\", \"a\") as file:\n",
    "        file.write(\" \".join([str(row[j]) for j in range(7)]))\n",
    "        file.write(\"\\n\")"
   ]
  },
  {
   "cell_type": "code",
   "execution_count": 65,
   "metadata": {},
   "outputs": [],
   "source": [
    "with open(\"/home/hpaat/my_exp/GLENet_v3/data/kitti/testing/unc_0004.txt\", \"r\") as file:\n",
    "    cc = file.readlines()"
   ]
  },
  {
   "cell_type": "code",
   "execution_count": 68,
   "metadata": {},
   "outputs": [
    {
     "name": "stdout",
     "output_type": "stream",
     "text": [
      "['0.26788718 0.1284177 0.022445235 0.214534 0.22426355 0.043070633 0.16110861\\n', '0.2876432 0.14041018 0.041423704 0.2254729 0.1703868 0.056326825 0.06639446\\n', '0.29648992 0.1407559 0.05010515 0.21796723 0.15367031 0.07298579 0.050519362\\n', '0.29182884 0.20756415 0.054898832 0.3869741 0.26786372 0.101061046 0.3226272\\n', '0.26657936 0.12933503 0.02257391 0.2039136 0.21530297 0.044327363 0.14932798\\n', '0.25360742 0.120645836 0.024905263 0.15795384 0.10933058 0.034166876 0.06390777\\n', '0.28702927 0.13992581 0.042596187 0.20194209 0.14400835 0.061320793 0.05115197\\n', '0.30390927 0.21911404 0.07281354 0.43616056 0.37359354 0.13531385 0.821592\\n', '0.2517318 0.1267463 0.025050027 0.19038944 0.13347705 0.043169007 0.11742521\\n', '0.25934082 0.12091912 0.025650963 0.1430608 0.098816514 0.037544053 0.04413131\\n', '0.29086474 0.15330791 0.044324234 0.30181772 0.23992391 0.07404152 0.21688116\\n', '0.26588833 0.13136096 0.03177501 0.16053215 0.11556227 0.043414656 0.047824167\\n', '0.28001058 0.1375739 0.03789937 0.2234942 0.17882401 0.058500275 0.0972635\\n', '0.25852022 0.12996843 0.028814372 0.14921929 0.11206267 0.04056724 0.047765598\\n', '0.26887143 0.13971637 0.034711212 0.23312561 0.18699616 0.057496022 0.178375\\n', '0.26712018 0.1347671 0.032225944 0.16539383 0.120553575 0.051726427 0.050068755\\n', '0.32145724 0.19240665 0.06421948 0.4456116 0.4728717 0.113085024 0.6798295\\n', '0.26589864 0.13344833 0.03273618 0.15858594 0.12604828 0.053512298 0.050468795\\n', '0.3234004 0.19168772 0.06308929 0.47490326 0.48835915 0.13287602 0.6731868\\n', '0.28677338 0.14541918 0.049275707 0.20185944 0.17971271 0.08919763 0.057788678\\n', '0.28619978 0.1530392 0.04366942 0.26178667 0.25195304 0.074690714 0.19989428\\n', '0.27483577 0.13917056 0.038238585 0.1787467 0.14285932 0.065126844 0.050929993\\n', '0.30201805 0.19392373 0.05077651 0.40336645 0.2891728 0.076710686 1.0\\n', '0.2828664 0.1536415 0.04235954 0.22058824 0.15770237 0.07384015 0.052678816\\n', '0.30709556 0.18036926 0.06469256 0.34332764 0.23830953 0.13259621 0.09113199\\n', '0.26874986 0.17907755 0.041629855 0.3566046 0.18587881 0.084030256 0.2578048\\n', '0.29728082 0.18291768 0.057110325 0.33956787 0.19868472 0.09984301 0.08867899\\n', '0.26056603 0.13873799 0.032992862 0.14767173 0.12972605 0.045797415 0.052103095\\n', '0.31573924 0.18221906 0.07733956 0.32040852 0.19805656 0.14223813 0.06710046\\n', '0.3265879 0.19146855 0.084380284 0.33938664 0.266622 0.178342 0.10710189\\n', '0.2429725 0.13799436 0.027454073 0.15614408 0.09611386 0.05241334 0.09519042\\n', '0.25356796 0.12939373 0.027487062 0.14338775 0.11075992 0.049289998 0.058428757\\n', '0.25640905 0.13100334 0.028925054 0.14907387 0.1170456 0.041525926 0.05454675\\n', '1.0 1.0 1.0 1.0 1.0 0.8905785 0.46139702\\n', '0.32316297 0.22676347 0.07259179 0.42884833 0.24471866 0.09849994 0.27552778\\n', '0.28760642 0.15079992 0.04416246 0.21762055 0.16737433 0.07692002 0.07007797\\n', '0.31315833 0.17260085 0.07151478 0.23101643 0.19552134 0.10740363 0.06611684\\n', '0.29808462 0.21625198 0.060657676 0.35315868 0.19060834 0.08352189 0.3006949\\n', '0.26177338 0.123818114 0.025934618 0.14803857 0.11139355 0.039815288 0.04946862\\n', '0.33605966 0.18201764 0.09132572 0.2916044 0.25040546 0.16955914 0.07540529\\n', '0.2882548 0.20440127 0.054767266 0.32064575 0.18431126 0.07350218 0.23402582\\n', '0.2989026 0.14144945 0.0504346 0.20423223 0.16072091 0.06283191 0.059578307\\n', '0.31473246 0.16647744 0.06461009 0.2538556 0.20296831 0.12096033 0.065899044\\n', '0.2825468 0.20362228 0.049484205 0.3282592 0.18621954 0.06982997 0.18730706\\n', '0.25965 0.11318258 0.024317456 0.13139026 0.09143349 0.03158447 0.04647626\\n', '0.37795153 0.21404043 0.1247855 0.48408493 0.48602238 0.21450159 0.13020699\\n', '0.32562473 0.18229325 0.07333656 0.27675393 0.25290045 0.1121248 0.088058025\\n', '0.29877493 0.17631848 0.050325297 0.3020187 0.16941626 0.07407054 0.059211798\\n', '0.23605883 0.10045691 0.015409561 0.09907367 0.073362425 0.02102485 0.042636774\\n', '0.32131365 0.16495448 0.071620055 0.25309062 0.1989233 0.13339995 0.06490635\\n', '0.37465313 0.21069357 0.07393275 0.456222 0.49671432 0.17743291 0.11159761\\n', '0.28912434 0.15207942 0.040577926 0.2313483 0.13446973 0.054189563 0.050001074\\n', '0.25903863 0.10721531 0.023400592 0.12846202 0.09168113 0.032615133 0.043131735\\n', '0.3190742 0.16503009 0.07058884 0.2576587 0.19234096 0.11859939 0.059935503\\n', '0.27833652 0.14419101 0.037154086 0.17225933 0.1466623 0.047383457 0.063327745\\n', '0.39478606 0.21597931 0.14889708 0.42097655 0.34151483 0.28804576 0.09359257\\n', '0.30610082 0.16595078 0.056200974 0.27199793 0.15294157 0.06924064 0.055782642\\n', '0.24632736 0.10146723 0.018943189 0.10962398 0.079439834 0.024630612 0.040670693\\n', '0.3296216 0.15624347 0.07576038 0.27479735 0.21334244 0.13332576 0.06168474\\n', '0.2921994 0.14677635 0.04135795 0.2016183 0.15341014 0.05380369 0.062235426\\n', '0.32549146 0.17289355 0.05239327 0.2836158 0.29204294 0.11102594 0.07451657\\n', '0.29031372 0.15239264 0.03791908 0.2359076 0.12842827 0.05228357 0.05086857\\n', '0.2495617 0.09993899 0.019700019 0.11146071 0.0801926 0.024325032 0.039585367\\n', '0.3363202 0.15532933 0.08188485 0.2620043 0.20217486 0.16086774 0.065391764\\n', '0.3033262 0.15739658 0.04215432 0.23426434 0.20858853 0.07728909 0.06684716\\n', '0.27880874 0.14002436 0.032937996 0.17690858 0.13095716 0.05220007 0.052687887\\n', '0.34807858 0.22262841 0.074262135 0.3868332 0.25438276 0.14376625 0.08392261\\n', '0.29223654 0.1515578 0.03874551 0.23535815 0.1225305 0.051230166 0.05071285\\n', '0.26106405 0.10829111 0.026123093 0.13284159 0.103928015 0.031502873 0.04369665\\n', '0.32502374 0.14825138 0.07072841 0.2520506 0.18533799 0.13148466 0.054532748\\n', '0.29743585 0.1479844 0.0445782 0.19931518 0.16728958 0.060565952 0.06369656\\n', '0.3147996 0.15963367 0.054846324 0.24922934 0.20599706 0.09297312 0.05310414\\n', '0.31422874 0.1660708 0.029412057 0.26044455 0.12500168 0.06806729 0.0524259\\n', '0.29029632 0.14638083 0.035394147 0.22795124 0.119708695 0.04458331 0.051299855\\n', '0.25667432 0.1055416 0.024666633 0.123727016 0.09467777 0.027267985 0.040898796\\n', '0.2867396 0.12003419 0.03356481 0.16900407 0.11019543 0.05942111 0.043880757\\n', '0.26624668 0.12527925 0.026011141 0.15133812 0.10277916 0.027838679 0.051733654\\n', '0.26624435 0.12632361 0.029310293 0.14370507 0.09807876 0.036610797 0.044857644\\n', '0.37848356 0.27098826 0.09493434 0.60473967 0.39991918 0.20184973 0.12773573\\n', '0.2875327 0.14026906 0.032537673 0.20861876 0.10475156 0.040442195 0.046612598\\n', '0.29017353 0.13245155 0.04953605 0.1927095 0.15955116 0.04853038 0.04991711\\n', '0.28432754 0.115338996 0.030237034 0.17289609 0.10613993 0.044022635 0.04089783\\n', '0.25345585 0.11406642 0.018364258 0.12928946 0.08531929 0.02445484 0.05032393\\n', '0.2860527 0.13491735 0.035074953 0.17988019 0.12828746 0.046152983 0.04926367\\n', '0.7308894 0.3811209 0.54142255 0.8215731 0.5426847 0.3361974 0.06830712\\n', '0.3796751 0.24336047 0.0942167 0.53448373 0.39141387 0.1916053 0.17117749\\n', '0.29629812 0.14638725 0.038586244 0.23492439 0.11598896 0.0485264 0.049539324\\n', '0.27296942 0.12236934 0.036871057 0.1612092 0.15126956 0.047375772 0.05128188\\n', '0.28697646 0.11270864 0.029653106 0.17264117 0.103888005 0.0449015 0.038861834\\n', '0.27313265 0.123944744 0.026212424 0.16244882 0.09878059 0.029000437 0.049765255\\n', '0.28731728 0.12852395 0.028257377 0.18876156 0.12730855 0.053786322 0.046914786\\n', '0.33609495 0.15871114 0.075630836 0.31944442 0.27644178 0.17635624 0.044225257\\n', '0.33606568 0.1888602 0.052017972 0.3409539 0.24952236 0.15797392 0.07326597\\n', '0.28813326 0.13237919 0.032130454 0.20087191 0.09117224 0.03491935 0.045804452\\n', '0.29268894 0.13706584 0.046549495 0.2458253 0.18499357 0.058502488 0.057741016\\n', '0.27064672 0.10223087 0.02178468 0.13373007 0.0835439 0.035774395 0.035119716\\n', '0.2726799 0.11667707 0.023375707 0.1518519 0.092666 0.026204556 0.04877611\\n', '0.38764524 0.20335847 0.10821146 0.45792064 0.5577997 0.2240577 0.07096468\\n', '0.3540432 0.1783157 0.07543952 0.34875423 0.23080051 0.26264954 0.053168673\\n', '0.29637945 0.1324686 0.03282986 0.2160465 0.09730128 0.04142774 0.042916864\\n', '0.28660426 0.111566834 0.02843496 0.1737797 0.10760653 0.039657217 0.03805106\\n', '0.30881387 0.13327411 0.04861344 0.2296696 0.1658014 0.050179757 0.050140616\\n', '0.27442852 0.113456964 0.020254746 0.15516852 0.09388526 0.03627851 0.04181953\\n', '0.3617986 0.17493126 0.06267611 0.3734859 0.26459765 0.24209327 0.05392918\\n', '0.3048367 0.13695937 0.040390756 0.24601741 0.10751177 0.041832816 0.0451327\\n', '0.27514255 0.104901336 0.024867563 0.14447226 0.09341225 0.033795483 0.035169836\\n', '0.2682185 0.10474059 0.016101519 0.13342324 0.07699705 0.020249955 0.044127706\\n', '0.27338988 0.112742834 0.024391778 0.1461106 0.08789266 0.034829125 0.039354227\\n', '0.32212785 0.13158225 0.047453355 0.27355805 0.10991294 0.04276362 0.041285664\\n', '0.2655937 0.0996047 0.021408396 0.12256332 0.08138929 0.028948117 0.034138188\\n', '0.2553475 0.09308864 0.009604742 0.10652749 0.061493836 0.014700258 0.038363207\\n', '0.26564452 0.10150524 0.015594956 0.12850995 0.070474125 0.025159992 0.033273913\\n', '0.31697538 0.12393437 0.04444762 0.2475203 0.08293598 0.038355015 0.03810083\\n', '0.33943 0.15100114 0.08318724 0.33221665 0.23692146 0.09249084 0.04797279\\n', '0.2855074 0.109314196 0.026050407 0.15593985 0.09834935 0.027173022 0.042014685\\n', '0.28826386 0.11785959 0.03600429 0.17309088 0.10173366 0.035964347 0.039383445\\n', '0.3970362 0.1702819 0.13048057 0.5305759 0.29510933 0.14310555 0.0515401\\n', '0.5111671 0.20757185 0.335432 0.6121007 0.35530347 0.3647491 0.07682292\\n', '0.355272 0.14546177 0.071737714 0.31763452 0.12334192 0.09892721 0.03950347\\n', '0.2731668 0.10903165 0.028882045 0.13686992 0.100662276 0.031752173 0.03653126\\n', '0.33772665 0.14409962 0.065141566 0.3297121 0.21894833 0.06540001 0.052070234\\n', '0.26335874 0.089268774 0.014774605 0.1228609 0.06607912 0.015016981 0.030905355\\n', '0.8993588 0.4659546 0.5890972 0.80920255 0.3792074 0.3280339 0.087213606\\n', '0.34589106 0.13555664 0.059739776 0.29524973 0.21305971 0.15759386 0.039631654\\n', '0.40960532 0.16992523 0.16986823 0.4953408 0.18717083 0.15094276 0.05227845\\n', '0.3960596 0.21535796 0.1386425 0.60560024 0.7176844 0.18919137 0.07307916\\n', '0.29187635 0.107700005 0.02897069 0.17758115 0.1311648 0.04029019 0.030849915\\n', '0.27796954 0.0967165 0.021555962 0.15077235 0.07661518 0.02481124 0.02688958\\n', '0.32045868 0.12112035 0.04073649 0.23353754 0.078720614 0.03992727 0.03321033\\n', '0.30077732 0.12532595 0.04809859 0.2417707 0.1758309 0.051322218 0.033324223\\n', '0.27154908 0.09658326 0.020499913 0.12524794 0.0861981 0.018558992 0.030164137\\n', '0.28269893 0.10696587 0.02426714 0.1619732 0.09802558 0.03222233 0.03626601\\n', '0.27403206 0.043225665 0.008013087 0.101123735 0.0063601653 0.005374301 0.016476467\\n', '0.3077113 0.116620064 0.047500707 0.21138391 0.15438297 0.059455115 0.032095898\\n', '0.3138252 0.12543583 0.038727697 0.21268393 0.12352689 0.061117467 0.037404478\\n', '0.34618112 0.13290866 0.059377283 0.3446841 0.2066252 0.112571664 0.045903023\\n', '0.3334643 0.12951672 0.052812092 0.2965144 0.21107766 0.123733826 0.035124797\\n', '0.27536 0.043225665 0.009240177 0.10552572 0.0063601653 0.004967763 0.016190972\\n', '0.28024566 0.10149992 0.025227835 0.1399482 0.1046168 0.034347236 0.027534997\\n', '0.2788473 0.09187907 0.01924593 0.14208934 0.07470228 0.022646125 0.019430052\\n', '0.36115316 0.14697784 0.09220116 0.3598842 0.18238688 0.13435599 0.034355823\\n', '0.34311014 0.13478331 0.067309774 0.24720451 0.17691113 0.1741401 0.03762594\\n', '0.33105984 0.112981856 0.054528214 0.21875286 0.07311005 0.043626443 0.026952837\\n', '0.28833207 0.110855356 0.032263063 0.16220276 0.13316129 0.04549265 0.03214505\\n', '0.23860383 0.07274921 0.0019729056 0.067045584 0.035886914 0.007357684 0.019984284\\n', '0.3613485 0.14814681 0.105035 0.3873319 0.20730688 0.11246204 0.025316818\\n', '0.5473565 0.2292984 0.24209478 0.7564359 0.48102236 0.2608226 0.051792607\\n', '0.29195735 0.07042917 0.016270189 0.13576826 0.025497364 0.015922606 0.013927826\\n', '0.28217977 0.106190644 0.031333275 0.14620255 0.113328926 0.042782452 0.028687619\\n', '0.25088254 0.08329236 0.011915465 0.083535865 0.048126403 0.014172714 0.0207441\\n', '0.49526387 0.22332747 0.31285095 0.79489905 0.49563783 0.32328776 0.06585736\\n', '0.4033252 0.15840587 0.12576233 0.43649504 0.23955707 0.22605114 0.042475548\\n', '0.2834202 0.06407858 0.012718412 0.10855878 0.019115921 0.014795154 0.007472685\\n', '0.2836513 0.109670214 0.031339567 0.14527237 0.11449769 0.04616326 0.027762042\\n', '0.2648781 0.099514216 0.02448968 0.10328572 0.0673198 0.02576279 0.028236158\\n', '0.3655369 0.14764787 0.089825794 0.46364915 0.27361238 0.14861482 0.03204846\\n', '0.3269015 0.12693878 0.049819116 0.26466364 0.15299787 0.10278932 0.027115876\\n', '0.27957487 0.063204765 0.010903429 0.104873165 0.015283314 0.013262697 0.0095127225\\n', '0.26924232 0.10569264 0.028260726 0.119339846 0.10364656 0.033781573 0.02900107\\n', '0.24251229 0.07639125 0.006709685 0.07460307 0.041983277 0.011370041 0.019010505\\n', '0.3464778 0.13792247 0.080672234 0.3340377 0.19424753 0.1191965 0.030245591\\n', '0.2796318 0.0584988 0.008838784 0.109037556 0.007715336 0.010216739 0.012072392\\n', '0.33656228 0.15940852 0.082707234 0.3057658 0.32287836 0.11685476 0.045073476\\n', '0.24484076 0.086763255 0.015400113 0.0755372 0.056407005 0.016671974 0.02171426\\n', '0.5673103 0.26307628 0.343271 0.91571057 0.5466923 0.22931427 0.05646152\\n', '0.45775712 0.17782782 0.22160886 0.52152425 0.33587804 0.19615859 0.031235486\\n', '0.28671968 0.066152945 0.012537945 0.12051959 0.02060267 0.013452793 0.013199414\\n', '0.36718082 0.17867221 0.12029588 0.46227816 0.47370362 0.18037753 0.04113968\\n', '0.278131 0.105408065 0.025063498 0.1281679 0.077663176 0.028541783 0.025980406\\n', '0.33505648 0.13216758 0.06798108 0.29961273 0.20081817 0.09308495 0.025574189\\n', '0.65031147 0.25513276 0.45761672 0.82438874 0.38747823 0.35531583 0.049072012\\n', '0.34334594 0.14227241 0.05196347 0.31171113 0.16073778 0.1438197 0.026108542\\n', '0.3350579 0.156862 0.07181093 0.36198658 0.2834884 0.09855954 0.034357004\\n', '0.30619523 0.13023518 0.047135506 0.20026042 0.15909962 0.06874771 0.030853145\\n', '0.32451776 0.13600354 0.06703198 0.25965458 0.17191187 0.08013417 0.028352797\\n', '0.2953189 0.11045011 0.0346554 0.16043119 0.106146745 0.06989938 0.023863066\\n', '0.29379737 0.079770036 0.02094792 0.12784812 0.022425922 0.022822019 0.012597259\\n', '0.273929 0.09966979 0.02480142 0.1330228 0.09578523 0.035747103 0.022994973\\n', '0.27826518 0.105358474 0.030281011 0.13923694 0.08338831 0.037905842 0.025443798\\n', '0.31313363 0.116875425 0.05512464 0.1739586 0.11858478 0.0728546 0.025658125\\n', '0.32024777 0.13280056 0.04428293 0.2539053 0.24428645 0.14773442 0.042749424\\n', '0.29734766 0.083834894 0.0214702 0.1440278 0.035454515 0.0247416 0.016504137\\n', '0.31272912 0.1269327 0.055338126 0.23414108 0.18510701 0.07538203 0.02883734\\n', '0.29902285 0.1138688 0.037345916 0.20024057 0.11047077 0.048422333 0.026950853\\n', '0.29436353 0.10354421 0.033437394 0.14755362 0.10246109 0.047494352 0.023597956\\n', '0.3546536 0.15025124 0.07993964 0.39114225 0.30256516 0.18532784 0.03304626\\n', '0.2897468 0.07024027 0.016421081 0.12210945 0.021690542 0.014724145 0.01385322\\n', '0.31298205 0.1276521 0.053656936 0.22625026 0.17401202 0.08207206 0.028482597\\n', '0.27022785 0.10071394 0.026578134 0.11975811 0.078622594 0.03236178 0.023301596\\n', '0.27996874 0.097060055 0.026554609 0.11833249 0.089524806 0.042467978 0.02271547\\n', '0.31727073 0.09857529 0.036497835 0.1739095 0.05221004 0.054383084 0.014324457\\n', '0.3074376 0.13077435 0.053869024 0.2097196 0.18256128 0.07152698 0.0333678\\n', '0.24964556 0.088522196 0.014270466 0.07789852 0.04733069 0.020863838 0.02151214\\n', '0.315698 0.12500846 0.04803996 0.21751928 0.13570425 0.09383803 0.036496483\\n', '0.2884465 0.07815056 0.014812284 0.12504132 0.028116597 0.021042181 0.015727693\\n', '0.31764546 0.13882802 0.065232374 0.2310475 0.21670236 0.10462091 0.029369935\\n', '0.33780116 0.15417758 0.085776195 0.28490424 0.19265531 0.108240895 0.0424273\\n', '0.39078876 0.17602329 0.107436165 0.4561877 0.30687955 0.26507026 0.052385796\\n', '0.32643723 0.13138302 0.056147844 0.2423531 0.1774257 0.10051624 0.029662976\\n', '0.28371966 0.063121274 0.013073518 0.10824208 0.01934588 0.012882089 0.009566842\\n', '0.28045323 0.11931178 0.04090597 0.14268084 0.12952463 0.052492112 0.028166745\\n', '0.26460338 0.094474465 0.022721017 0.10763034 0.06696764 0.030604493 0.023734936\\n', '0.2710781 0.090799175 0.021692218 0.12238141 0.064253636 0.026485825 0.024767317\\n', '0.34281313 0.14274976 0.05462015 0.32553455 0.28253582 0.14326681 0.043179628\\n', '0.29127046 0.078793816 0.018352976 0.1320404 0.025852911 0.01657865 0.014641844\\n', '0.2789737 0.11893067 0.0364519 0.15259224 0.123912595 0.044412166 0.026966061\\n', '0.34588215 0.14766107 0.09399988 0.3253826 0.22266352 0.1330038 0.0349647\\n', '0.36372557 0.1467812 0.10302791 0.39911103 0.22441763 0.109342545 0.037237525\\n', '0.3452081 0.15593764 0.066100284 0.36271727 0.2759089 0.16436484 0.05079119\\n', '0.30308235 0.08743418 0.025247974 0.15042044 0.032908663 0.022891134 0.01469647\\n', '0.30367362 0.12215474 0.05184497 0.1871833 0.12319173 0.08565629 0.027837439\\n', '0.29619375 0.10433817 0.029306134 0.167499 0.114712566 0.035748027 0.03085609\\n', '0.48633197 0.21407838 0.21627362 0.9505549 0.6164797 0.18632072 0.05425742\\n', '0.30908805 0.085998684 0.033108518 0.14885865 0.045896538 0.03651863 0.013017632\\n', '0.27576107 0.106941015 0.031674337 0.12384724 0.08160206 0.04980592 0.024732068\\n', '0.25121027 0.07691892 0.012684093 0.084200226 0.045674305 0.013300866 0.023815468\\n', '0.345087 0.15154478 0.06235751 0.35095552 0.25211582 0.14842041 0.04624469\\n', '0.2907834 0.06251809 0.017665705 0.12803186 0.02447187 0.018817618 0.0103284875\\n', '0.28319383 0.113184765 0.039693385 0.15123944 0.10532372 0.05427015 0.025702506\\n', '0.26677346 0.09070667 0.021105802 0.1122284 0.058998592 0.01898849 0.02423068\\n', '0.30453354 0.11866393 0.029320719 0.20115846 0.13291986 0.062114466 0.034327745\\n', '0.29085502 0.07890215 0.018995114 0.12210714 0.023336029 0.01880753 0.012511245\\n', '0.34435698 0.15233861 0.100334615 0.34386653 0.25074267 0.13202704 0.038554184\\n', '0.46986023 0.21837322 0.2568614 0.91309416 0.5134495 0.21786353 0.0635635\\n', '0.39396134 0.16748574 0.11106683 0.50929254 0.33363008 0.18451746 0.051998068\\n', '0.28572512 0.06807312 0.017650703 0.119050026 0.020141834 0.019947916 0.012253783\\n', '0.2842463 0.1211194 0.04474799 0.15964411 0.1303123 0.056108363 0.028189091\\n', '0.24410473 0.08566319 0.016111495 0.07445856 0.049754612 0.015411792 0.024197051\\n', '0.30831635 0.121373944 0.048305262 0.2198177 0.17644131 0.07053295 0.026419245\\n', '0.31051856 0.08650885 0.036720473 0.15723477 0.038932536 0.031443328 0.013761351\\n', '0.2995968 0.13067827 0.057651754 0.22524884 0.15377665 0.071557455 0.031135626\\n', '0.2810026 0.10555144 0.031011932 0.14348309 0.0949897 0.03978701 0.031127356\\n', '0.3423214 0.13167416 0.066546224 0.3887696 0.215733 0.07348094 0.028218012\\n', '0.32414737 0.099048264 0.044656634 0.19235532 0.06500476 0.047646753 0.017731365\\n', '0.25511295 0.09252508 0.023632701 0.09457176 0.07119724 0.028422149 0.026982175\\n', '0.35834873 0.14719239 0.08420463 0.40253547 0.34257495 0.11570586 0.037438974\\n', '0.30958682 0.11120153 0.032433096 0.17122315 0.055889584 0.042551972 0.02702377\\n', '0.3268526 0.13179351 0.079308696 0.2721266 0.18321449 0.1177305 0.03580985\\n', '0.29818216 0.10860273 0.03676458 0.19110677 0.13382904 0.046673194 0.023706634\\n', '0.3404787 0.11680716 0.05860475 0.24935372 0.08354365 0.10913938 0.025602987\\n', '0.2794275 0.106716104 0.03500791 0.14542565 0.101761594 0.05287943 0.027720727\\n', '0.3068295 0.11008018 0.03890208 0.22921018 0.13912576 0.041488703 0.024803996\\n', '0.31469783 0.104042165 0.035895493 0.18164387 0.056434542 0.056817014 0.019324867\\n', '0.26817837 0.10462199 0.031567536 0.11891668 0.0960261 0.04129934 0.029063042\\n', '0.29776555 0.109644525 0.029716931 0.19739802 0.1281517 0.038409963 0.024483062\\n', '0.3457633 0.11445247 0.07401619 0.23348288 0.07602419 0.055779696 0.021114858\\n', '0.25126877 0.0989358 0.026084023 0.09314903 0.07628493 0.030925244 0.026994698\\n', '0.31593594 0.12392265 0.04354569 0.2806373 0.19555126 0.051513907 0.028787926\\n', '0.34262896 0.1136689 0.058281653 0.24298579 0.07480687 0.07746421 0.025370764\\n', '0.25186035 0.105073474 0.028162556 0.09639764 0.08092297 0.029221617 0.029715264\\n', '0.2927131 0.10965025 0.027254434 0.16878653 0.10337073 0.034757126 0.025992818\\n', '0.30396432 0.08403422 0.026242869 0.1477884 0.03477232 0.027823893 0.015541745\\n', '0.29097992 0.12579991 0.04780477 0.20011076 0.14300595 0.05578464 0.03116385\\n', '0.27709302 0.10371863 0.02479463 0.13098708 0.08232841 0.028048422 0.02447156\\n', '0.31768593 0.1034599 0.039759867 0.19338346 0.051078346 0.04651299 0.019020148\\n', '0.2661097 0.096115865 0.023669794 0.10748231 0.07394438 0.024462048 0.023668202\\n', '0.3098044 0.09418772 0.035157688 0.17187066 0.051111493 0.033566907 0.016863331\\n', '0.30396023 0.11265011 0.03828642 0.18818414 0.1217918 0.04504616 0.02552571\\n', '0.29859367 0.08904237 0.02590708 0.13473722 0.03522003 0.03628468 0.012569546\\n', '0.2726212 0.095186085 0.02124802 0.124664105 0.08085385 0.027755 0.023027861\\n', '0.28227916 0.06808842 0.016931877 0.105385326 0.021897236 0.0180575 0.014792221\\n', '0.3023724 0.11824919 0.040888812 0.1980302 0.14257185 0.0629758 0.027635416\\n', '0.36378336 0.1297045 0.09243108 0.29948208 0.121572495 0.15449084 0.0267138\\n', '0.31609854 0.14189135 0.063963465 0.24168035 0.21361548 0.08950505 0.029357139\\n', '0.30240908 0.080143645 0.023244152 0.15149158 0.03076025 0.016498921 0.015525075\\n', '0.3031437 0.12496943 0.049297594 0.20017938 0.15427448 0.06866008 0.029662577\\n', '0.2940101 0.07982938 0.026398541 0.13561471 0.036199853 0.030382019 0.013742383\\n', '0.28174427 0.115946956 0.035788685 0.1448636 0.114729725 0.048268586 0.029312138\\n', '0.30636802 0.09099324 0.036572162 0.14841434 0.048792798 0.036899798 0.009130175\\n', '0.30525288 0.13740359 0.06040015 0.20703384 0.1752202 0.081995785 0.033418283\\n', '0.30507708 0.09235923 0.024886794 0.15005302 0.03254118 0.04547845 0.01822113\\n', '0.30357993 0.13605247 0.057057027 0.23007381 0.1820738 0.06762401 0.033704042\\n', '0.310745 0.08921813 0.035121594 0.15596502 0.04397725 0.035478923 0.013152859\\n', '0.31158665 0.098005824 0.034379885 0.16218296 0.050723765 0.041225456 0.017284423\\n', '0.29659283 0.07460478 0.018133022 0.13358004 0.028585926 0.023576232 0.012108629\\n', '0.38219562 0.1407957 0.13456088 0.31661224 0.13576391 0.13016698 0.027850712\\n', '0.2977594 0.08499996 0.020871023 0.13889547 0.03865858 0.027927628 0.01562535\\n', '0.31875658 0.12767662 0.03576349 0.21167088 0.07610275 0.05012818 0.033431526\\n', '0.30068225 0.0857487 0.026754271 0.14188808 0.038532827 0.034064833 0.012430185\\n', '0.39605165 0.15919784 0.1425497 0.41626546 0.1634183 0.18921092 0.0371974\\n', '0.34126303 0.11757661 0.05951159 0.24522322 0.08827203 0.10654958 0.027082993\\n', '0.37799755 0.1559222 0.09610316 0.3816129 0.19648087 0.27678627 0.032450527\\n', '0.34643406 0.12942277 0.06656983 0.22211987 0.10291558 0.09506508 0.03435216\\n', '0.31986156 0.105544835 0.046442594 0.16882919 0.06503195 0.087671384 0.0155037325\\n', '0.29662156 0.09858766 0.02035238 0.13516633 0.03835554 0.047458675 0.01845659\\n', '0.3076072 0.10080955 0.029669825 0.16397764 0.052842937 0.041714165 0.017772347\\n', '0.33709288 0.1859561 0.047512554 0.29143453 0.17139149 0.15222488 0.047887728\\n', '0.3523641 0.1673176 0.059759717 0.31217593 0.18202244 0.22319332 0.03517084\\n', '0.38416287 0.1881344 0.08905826 0.41789192 0.27196798 0.35759628 0.037182212\\n', '0.41364422 0.22830786 0.1694247 0.46061772 0.33956987 0.5614559 0.060046513\\n', '0.30350047 0.09497509 0.026395451 0.1424256 0.04417987 0.05186282 0.017520096\\n', '0.35110876 0.14953184 0.051210966 0.26246762 0.13862337 0.1957264 0.029836373\\n', '0.37713376 0.19707619 0.09490846 0.34793758 0.21942198 0.22736225 0.048729718\\n', '0.37098825 0.16953371 0.07450764 0.3283446 0.20936963 0.3084758 0.031993095\\n', '0.4229107 0.20671245 0.09625053 0.38539717 0.21540451 0.34607333 0.051902737\\n', '0.32177904 0.15308648 0.033832118 0.23904987 0.11571228 0.10291309 0.03816973\\n', '0.32864657 0.15471442 0.041748177 0.24636032 0.1286832 0.13695872 0.038328297\\n', '0.3439436 0.15797976 0.052567076 0.2522064 0.14469379 0.19531153 0.030991314\\n', '0.3663194 0.17899783 0.055060275 0.3709166 0.26781166 0.38564953 0.05782634\\n', '0.32253435 0.13523665 0.045079757 0.20531443 0.0847056 0.1198394 0.029334085\\n', '0.3052496 0.10143851 0.031673454 0.14123344 0.042096253 0.06155992 0.016591756\\n', '0.3055588 0.101762325 0.03498162 0.15118119 0.04670934 0.058508355 0.020327896\\n', '0.34046715 0.12916574 0.038153056 0.22713564 0.09167895 0.16861632 0.03292805\\n', '0.31877717 0.13723385 0.033630565 0.20526633 0.09936317 0.09137756 0.03459815\\n', '0.35651273 0.16076548 0.070313394 0.27234435 0.14475363 0.2010586 0.038647432\\n', '0.31490082 0.098489255 0.038329616 0.15797243 0.05062018 0.06321242 0.01678316\\n', '0.34422716 0.12620896 0.048066154 0.23513687 0.13948227 0.22228944 0.03431174\\n', '0.45272115 0.17547867 0.13838796 0.35923475 0.19790845 0.31130368 0.031894464\\n', '0.29897672 0.10355302 0.022027561 0.14393932 0.04508451 0.038779415 0.02572456\\n', '0.34249625 0.12841713 0.06942068 0.25113806 0.113318905 0.12731582 0.02034986\\n', '0.31646428 0.11083869 0.032263804 0.19192922 0.07360651 0.07203591 0.023707133\\n', '0.34521067 0.12190874 0.055227287 0.23653676 0.12477238 0.17858675 0.023935694\\n', '0.38767436 0.17136042 0.14045131 0.37354615 0.1881475 0.25436324 0.02634604\\n', '0.7047772 0.35480657 0.67882043 0.87221843 0.472808 0.6837742 0.09348693\\n', '0.3455785 0.17203367 0.06348153 0.27952334 0.17674766 0.2051204 0.042327844\\n', '0.34650245 0.14967823 0.06361846 0.2779558 0.15390511 0.19077218 0.03412193\\n', '0.31204188 0.09913838 0.028912907 0.17837292 0.05449506 0.05456733 0.019788124\\n', '0.3390387 0.14139222 0.069887355 0.29859188 0.19138257 0.13757583 0.032881178\\n', '0.30762574 0.08924822 0.025664182 0.17200623 0.049128845 0.05589585 0.0073757693\\n', '0.34073296 0.13707553 0.0664799 0.28743213 0.1589365 0.14284922 0.03394892\\n', '0.35938838 0.1224958 0.057135995 0.2744426 0.12513888 0.17042597 0.027426789\\n', '0.36814103 0.16087252 0.10269144 0.39874852 0.28984994 0.18486191 0.04733752\\n', '0.4284262 0.21505703 0.12181436 0.39085236 0.2081566 0.3559175 0.034825824\\n', '0.33825013 0.1321457 0.061816636 0.27761295 0.1874239 0.11925866 0.0330469\\n', '0.35658386 0.12630115 0.07287288 0.2643021 0.1193608 0.12321117 0.023495523\\n', '0.3344403 0.13705815 0.068832904 0.31521556 0.1884502 0.098102815 0.031587396\\n', '0.398661 0.21854804 0.114280485 0.3983003 0.23622721 0.3011568 0.044537816\\n', '0.33315188 0.13876034 0.06606898 0.2833682 0.16093887 0.10993643 0.029702187\\n', '0.35646513 0.13252823 0.075133905 0.29969394 0.108318515 0.124473095 0.018157514\\n', '0.28125936 0.10125903 0.027757153 0.13305041 0.074651025 0.038838893 0.025380803\\n', '0.3781684 0.2062267 0.09551203 0.35274833 0.21466988 0.23419362 0.044576477\\n', '0.30602643 0.119464815 0.052793324 0.2106322 0.12170152 0.06126728 0.02265756\\n', '0.3178637 0.10465172 0.03493647 0.19478227 0.07228427 0.06700962 0.020842478\\n', '0.26544136 0.096669376 0.025161343 0.11445613 0.060258552 0.029545061 0.024548389\\n', '0.3181226 0.10801896 0.030232789 0.19918993 0.07619282 0.08178493 0.021945642\\n', '0.27133954 0.098413706 0.027724251 0.124167904 0.067246266 0.029222399 0.023770357\\n', '0.35919344 0.18169226 0.07257785 0.34089494 0.20464993 0.24409865 0.04204989\\n', '0.31633484 0.13653968 0.06189764 0.1989927 0.14728986 0.110951245 0.035471346\\n', '0.35405585 0.19190498 0.05996533 0.36308187 0.17801161 0.16846767 0.047328074\\n', '0.2902043 0.12315895 0.050109226 0.16754788 0.112015665 0.044184208 0.029068602\\n', '0.39548287 0.19350317 0.10933903 0.3576066 0.19659571 0.3341495 0.034599666\\n', '0.26216218 0.10938832 0.029977947 0.10846372 0.08343474 0.03293856 0.02443894\\n', '0.3833656 0.15519011 0.121209875 0.33729792 0.15763399 0.23428382 0.039320577\\n', '0.3291627 0.12624004 0.04867522 0.2254769 0.08561034 0.09271103 0.018281016\\n', '0.32003748 0.10689313 0.03833327 0.17277 0.07051442 0.08665177 0.020930644\\n', '0.3149115 0.13157465 0.033332027 0.19963656 0.082770675 0.08145547 0.02567554\\n', '0.33463803 0.14209442 0.043200213 0.23673643 0.14140196 0.2189407 0.033138663\\n', '0.3545565 0.16420893 0.06583945 0.2653544 0.16100752 0.21001495 0.039079938\\n', '0.33310387 0.16966507 0.04414769 0.28226778 0.15308419 0.14532037 0.04770248\\n', '0.40012944 0.16700624 0.13564052 0.5242801 0.36898547 0.20422761 0.03459245\\n', '0.34594768 0.17703402 0.07423077 0.30812296 0.19134735 0.2501058 0.038969975\\n', '0.40982604 0.18782027 0.16120695 0.5147696 0.40301797 0.22976913 0.049467605\\n', '0.32739532 0.14527863 0.03705573 0.21818389 0.104362614 0.14956789 0.031921968\\n', '0.39518315 0.17939693 0.09103051 0.60775983 0.51228374 0.2225798 0.056153715\\n', '0.3180725 0.1062915 0.028921787 0.20213364 0.08522351 0.103783906 0.024664596\\n', '0.3530208 0.15381952 0.076305754 0.34913972 0.3253201 0.15585941 0.032882206\\n', '0.34169036 0.16690427 0.06145657 0.2800184 0.17178237 0.20793492 0.041294407\\n', '0.29933265 0.10598215 0.028738491 0.19291456 0.13742022 0.061012506 0.019208623\\n', '0.3359301 0.17606005 0.043761846 0.30196628 0.16406882 0.14592338 0.049451306\\n', '0.34201697 0.13878933 0.05824043 0.32307962 0.23243077 0.13338216 0.026336383\\n', '0.40252173 0.19928905 0.11581358 0.3599728 0.19441059 0.33349127 0.030738767\\n', '0.3097998 0.1136056 0.036921952 0.22609147 0.13600156 0.050411846 0.025395581\\n', '0.32853454 0.15843184 0.041555956 0.2600413 0.13411127 0.12847376 0.039672386\\n', '0.27850485 0.09610422 0.02025112 0.13913578 0.08571652 0.032486312 0.021621173\\n', '0.29707935 0.10455462 0.020026876 0.14575636 0.046623882 0.05284753 0.01921105\\n', '0.27135327 0.08850726 0.017383125 0.11628839 0.07748576 0.020282798 0.02247953\\n', '0.3188225 0.11586401 0.0390845 0.18392555 0.068087414 0.06633626 0.026951121\\n', '0.2745934 0.088758506 0.014861152 0.13655645 0.08274278 0.020327944 0.02021693\\n', '0.36681336 0.15618835 0.08708789 0.31470975 0.15019271 0.12522705 0.032675926\\n', '0.2988579 0.11389979 0.037075926 0.18219884 0.13687237 0.041854393 0.026980814\\n', '0.3204481 0.10632938 0.039984982 0.19103916 0.06492851 0.06727322 0.018182546\\n', '0.2790254 0.1032079 0.022521973 0.14956239 0.093632795 0.032244846 0.021816164\\n', '0.3533825 0.12174564 0.05600224 0.24982272 0.121528886 0.15826589 0.025059257\\n', '0.2511925 0.08698803 0.013091245 0.08931608 0.058436647 0.017430373 0.020774657\\n', '0.3273535 0.111330785 0.040249385 0.29152986 0.16839717 0.041559055 0.025732663\\n', '0.30180377 0.10088263 0.02946753 0.14679348 0.044671554 0.04983444 0.017417073\\n', '0.26158237 0.09442143 0.018078886 0.1042472 0.07312874 0.01938994 0.02216894\\n', '0.34502158 0.13291982 0.059108935 0.39314216 0.20388316 0.079892755 0.03275368\\n', '0.34801757 0.13971435 0.07519127 0.29820088 0.19228674 0.24142423 0.046204302\\n', '0.22545688 0.08695684 0.011201017 0.058585748 0.054070093 0.014267195 0.020794084\\n', '0.28817123 0.09477095 0.022375217 0.15295115 0.08172589 0.029632192 0.021115208\\n', '0.420264 0.16895394 0.13132454 0.4758508 0.27859998 0.39801082 0.044315733\\n', '0.2674433 0.11564049 0.029700134 0.11183616 0.10932519 0.0384525 0.029624073\\n', '0.353664 0.1401499 0.06980256 0.42580003 0.27386934 0.0673685 0.039422084\\n', '0.36225274 0.13479525 0.08275549 0.26342434 0.13268131 0.15705512 0.028189318\\n', '0.23829581 0.10035437 0.017523073 0.07740744 0.06478879 0.02444353 0.021548213\\n', '0.26937008 0.08311388 0.013955199 0.11484883 0.0636037 0.020074844 0.02122342\\n', '0.3122046 0.118025914 0.04125154 0.20015714 0.13299379 0.11273621 0.020666875\\n', '0.35621834 0.13320671 0.06140427 0.31151643 0.19088578 0.27532277 0.040083844\\n', '0.27179614 0.085840516 0.014154188 0.12468434 0.071110815 0.020227177 0.019321654\\n', '0.3244591 0.12155301 0.045391824 0.22884867 0.13939586 0.12220386 0.025802374\\n', '0.3944577 0.2327326 0.10983872 0.38527164 0.22312982 0.29571867 0.058785476\\n', '0.24896647 0.08100484 0.008796782 0.09476452 0.0528453 0.009017249 0.021345302\\n', '0.34511656 0.13561821 0.06683935 0.2989049 0.1785012 0.16180596 0.03108122\\n', '0.33317873 0.11038815 0.04557945 0.21419226 0.08012068 0.08246961 0.028482076\\n', '0.26035947 0.086301014 0.012127248 0.10830726 0.06580013 0.015144418 0.020358942\\n', '0.33264792 0.13370606 0.06412668 0.2703595 0.19699346 0.11820798 0.026616411\\n', '0.36055574 0.12923507 0.07319235 0.29890248 0.182736 0.2579235 0.030056804\\n', '0.22970484 0.08037116 0.009598785 0.062134434 0.04762247 0.011646369 0.020923357\\n', '0.31898308 0.122983776 0.04095594 0.23143947 0.14596154 0.10697952 0.029850075\\n', '0.5055619 0.21157461 0.25244552 0.4441283 0.21551776 0.3576918 0.028644303\\n', '0.30566725 0.12385763 0.035377815 0.16531907 0.057876866 0.08253827 0.026725058\\n', '0.2603605 0.09875823 0.021454362 0.103166744 0.08774594 0.02447861 0.02436653\\n', '0.28337848 0.086489804 0.01917207 0.12757924 0.06553166 0.043373585 0.019960782\\n', '0.3421691 0.11411742 0.051380064 0.22565828 0.09726769 0.112243235 0.020130226\\n', '0.22945638 0.089757636 0.014488401 0.060778763 0.05373426 0.014713565 0.02212356\\n', '0.32629508 0.1325205 0.05797067 0.26719224 0.16624321 0.07958861 0.03133214\\n', '0.38458592 0.13786988 0.12584154 0.29588172 0.1208357 0.2010335 0.028233817\\n', '0.25447118 0.10358273 0.022916075 0.096838094 0.08039928 0.026828213 0.024479538\\n', '0.30017367 0.106088474 0.029932994 0.18131341 0.09036824 0.048424523 0.02430348\\n', '0.3130962 0.10858226 0.027229052 0.19021796 0.07665249 0.07778705 0.024646582\\n', '0.2591285 0.10834481 0.02589035 0.11783803 0.08444979 0.030523334 0.024419261\\n', '0.31546545 0.11532542 0.037435822 0.26007375 0.13705418 0.049192097 0.031076152\\n', '0.37154394 0.14559162 0.07335193 0.34084287 0.19399405 0.33598134 0.030393489\\n', '0.25457174 0.079062425 0.012241095 0.08573903 0.041943297 0.013944041 0.020413937\\n', '0.32358912 0.14949197 0.039398618 0.21553205 0.13501972 0.15075901 0.04687681\\n', '0.33148292 0.117644936 0.05359604 0.2167013 0.085350156 0.12977941 0.02925482\\n', '0.26357967 0.086238354 0.01610038 0.10584505 0.055873595 0.01574755 0.022261525\\n', '0.35419196 0.16019093 0.08589494 0.26515967 0.11559359 0.23708354 0.028613482\\n', '0.38627955 0.20156714 0.08874618 0.36225408 0.20132867 0.24050127 0.04451564\\n', '0.2644599 0.08246288 0.01485503 0.10302475 0.052903105 0.018434938 0.022665612\\n', '0.340884 0.15382896 0.054655638 0.31267887 0.13958456 0.21597977 0.033896066\\n', '0.33221406 0.15894584 0.04024416 0.26678026 0.13427755 0.14849226 0.04135475\\n', '0.2372022 0.076509885 0.008251653 0.06587594 0.038700838 0.0105293095 0.02077072\\n', '0.35701734 0.17300798 0.08093677 0.27528197 0.12970683 0.16113672 0.03700489\\n', '0.30812773 0.098786965 0.026641332 0.17210656 0.06120055 0.06711688 0.018680455\\n', '0.24212196 0.091783755 0.016405897 0.070804775 0.054635204 0.017001437 0.0221407\\n', '0.29958242 0.09280564 0.02423221 0.14847651 0.04426658 0.050995927 0.013415685\\n', '0.24428132 0.08649311 0.016365537 0.07698987 0.05806637 0.027144767 0.020882584\\n', '0.34416857 0.17538464 0.049026143 0.31258997 0.18438607 0.23038037 0.055155564\\n', '0.23548281 0.08462717 0.014363506 0.068359904 0.054733735 0.020524446 0.021125138\\n', '0.52990705 0.31881893 0.36849728 0.69211775 0.47812542 1.0 0.07178741\\n', '0.21582648 0.08419773 0.012986149 0.045412075 0.048288614 0.014816296 0.020121643\\n', '0.29963794 0.11775015 0.02275216 0.15831257 0.06291161 0.08077015 0.023576\\n', '0.33309597 0.11386484 0.045948897 0.22928202 0.10176717 0.13241969 0.02092318\\n', '0.29035833 0.136673 0.04654577 0.18817247 0.14333335 0.059293613 0.03303408\\n', '0.30073735 0.09440796 0.02685753 0.1408956 0.04306774 0.04782928 0.018213814\\n', '0.30592147 0.10156025 0.028746456 0.15685895 0.04911118 0.05364497 0.018211566\\n', '0.33163613 0.12616667 0.052726597 0.21685039 0.09208762 0.113290325 0.032404497\\n', '0.34864512 0.15115304 0.07965818 0.370578 0.2971587 0.21277823 0.045045864\\n', '0.29544425 0.08405126 0.024245521 0.13054264 0.03460939 0.029092662 0.011360815\\n', '0.29447025 0.12191418 0.02307257 0.16811621 0.06139059 0.057703916 0.029457366\\n', '0.30118737 0.10840321 0.036674228 0.1416582 0.05136848 0.086959355 0.025347756\\n', '0.35974836 0.13116243 0.09473493 0.2727013 0.12137653 0.105822966 0.029182507\\n', '0.3340731 0.14461298 0.06707253 0.30326453 0.20571764 0.13629408 0.035983108\\n', '0.31719476 0.111572616 0.04077925 0.17689605 0.057209216 0.08194496 0.024182452\\n', '0.3455555 0.15482184 0.0591316 0.29953003 0.116920605 0.13859528 0.03605712\\n', '0.34009612 0.14324367 0.06143686 0.3278422 0.29919568 0.15682079 0.024999224\\n', '0.3067953 0.09441877 0.028956909 0.14426485 0.06401399 0.082519695 0.01596214\\n', '0.34608102 0.11891493 0.06929532 0.24786726 0.083372325 0.061825186 0.028308773\\n', '0.34063917 0.141012 0.0654231 0.33336392 0.3231134 0.13497986 0.02879478\\n', '0.34178534 0.15657331 0.047870487 0.2472627 0.15950277 0.21945217 0.043535028\\n', '0.271868 0.07225989 0.02001453 0.07955857 0.03699868 0.028383996 0.01747579\\n', '0.3330815 0.13835031 0.056789503 0.31668434 0.2356508 0.1418274 0.028248396\\n', '0.30353406 0.0950148 0.026743975 0.15234253 0.037682902 0.03673798 0.021414166\\n', '0.30293727 0.10688569 0.026477262 0.18038973 0.055070333 0.038130056 0.023449002\\n', '0.310409 0.114662424 0.030411877 0.2237596 0.1697257 0.07701646 0.026726034\\n', '0.32338086 0.11126723 0.050255336 0.17663036 0.08350456 0.12365468 0.02037589\\n', '0.2956349 0.08830491 0.028391328 0.13324267 0.04103419 0.044434015 0.017737871\\n', '0.3316124 0.13371195 0.046686325 0.32715404 0.20619276 0.08224346 0.033240426\\n', '0.32752648 0.12497889 0.040358894 0.20257547 0.10996557 0.23778532 0.028275343\\n', '0.27422187 0.07860101 0.014371106 0.106398225 0.02333807 0.02529646 0.020437581\\n', '0.29242596 0.10461834 0.0233193 0.15537615 0.0792666 0.05113807 0.025780393\\n', '0.29377407 0.10344568 0.018171422 0.134685 0.042873416 0.048296288 0.021196498\\n', '0.30528155 0.11269627 0.03002863 0.19572727 0.05531089 0.034013182 0.028578935\\n', '0.2987935 0.115599036 0.028467495 0.18609881 0.11898932 0.05491339 0.030037427\\n', '0.31878945 0.117140844 0.036556236 0.18542914 0.07707131 0.10967022 0.023856089\\n', '0.2851761 0.08377114 0.02680515 0.12277555 0.030962843 0.020789862 0.019618366\\n', '0.34302923 0.1337068 0.057136897 0.32237932 0.23773195 0.08333064 0.037305936\\n', '0.32830298 0.14028104 0.04356504 0.22610362 0.11434429 0.14682119 0.03051153\\n', '0.3086424 0.10428801 0.02665249 0.18959291 0.064389855 0.03653126 0.026400441\\n', '0.299034 0.11190876 0.032762345 0.18725982 0.11568794 0.056077775 0.028096247\\n', '0.33983377 0.16589183 0.05956097 0.28388217 0.1704698 0.18993238 0.03937769\\n', '0.26429483 0.06496194 0.009238166 0.09273173 0.011239017 0.011774793 0.017309135\\n', '0.31324387 0.12107023 0.04135228 0.22247687 0.1416677 0.05426794 0.028152807\\n', '0.31395057 0.10432254 0.034726307 0.15918376 0.06373527 0.089096084 0.016816545\\n', '0.28283647 0.093716994 0.024834333 0.12971526 0.03695959 0.027674675 0.021051427\\n', '0.289989 0.10079896 0.02493719 0.1579196 0.09155937 0.028368628 0.024619993\\n', '0.33363643 0.14942569 0.04964888 0.23915133 0.1478046 0.21800621 0.03534005\\n', '0.2609527 0.05828584 0.009739554 0.0822908 0.0074917246 0.009724068 0.0152560035\\n', '0.24553293 0.07839711 0.0029202148 0.07857535 0.041171618 0.011697274 0.021723555\\n', '0.2898281 0.09623388 0.02072915 0.15919177 0.08125132 0.03658129 0.024491286\\n', '0.33166584 0.12052047 0.05381437 0.19961266 0.100972906 0.19906493 0.022727186\\n', '0.26738527 0.065012045 0.015076751 0.08966065 0.0078355 0.010554791 0.017863778\\n', '0.2668621 0.091299504 0.013641031 0.11230418 0.06641887 0.021543073 0.022865653\\n', '0.31452543 0.11828025 0.036941934 0.21021773 0.14928113 0.08330557 0.024117062\\n', '0.3529765 0.18163678 0.07972167 0.29459378 0.16870512 0.17919792 0.047996107\\n', '0.26380756 0.06412785 0.011966653 0.091866806 0.0069693225 0.009249459 0.01624209\\n', '0.22367695 0.07573181 0.0019729056 0.050502017 0.035249837 0.009102952 0.020135798\\n', '0.32135376 0.121269666 0.039360005 0.25039503 0.16137962 0.07990648 0.028108777\\n', '0.3175683 0.14520508 0.03461177 0.20441638 0.09632402 0.13303451 0.03150199\\n', '0.3143822 0.121308915 0.052326936 0.23112114 0.0868095 0.04466513 0.029344736\\n', '0.29650435 0.12078418 0.045028858 0.18186858 0.14030379 0.057166543 0.029530417\\n', '0.2816454 0.09129747 0.020568937 0.14419748 0.08267848 0.03344451 0.020626992\\n', '0.32066125 0.1442422 0.032281227 0.20766538 0.08947567 0.11303454 0.0351103\\n', '0.2753551 0.080870226 0.020663014 0.11535852 0.028725583 0.014223175 0.018551107\\n', '0.25166425 0.10102223 0.023826793 0.08420716 0.0686919 0.025045354 0.022500128\\n', '0.3397839 0.14628196 0.07039252 0.2978654 0.20037386 0.11963763 0.035711464\\n', '0.30289763 0.10009791 0.032204125 0.1383511 0.044554997 0.07352605 0.016310714\\n', '0.2671827 0.07572694 0.016266447 0.105160944 0.024995696 0.010006767 0.016841423\\n', '0.27276823 0.12094334 0.038111005 0.13474303 0.10430766 0.046989072 0.029351078\\n', '0.25844744 0.08244038 0.013206831 0.09135516 0.051564444 0.023166392 0.019510377\\n', '0.33402914 0.1076421 0.059344523 0.20022812 0.08463065 0.070232645 0.017345084\\n', '0.30733767 0.11203546 0.049062595 0.18471174 0.06869774 0.03261334 0.02675237\\n', '0.24238959 0.082728274 0.011354795 0.06925898 0.043460894 0.014922427 0.021285294\\n', '0.3115196 0.09295347 0.033923283 0.16149543 0.04491422 0.056800473 0.014970574\\n', '0.24565803 0.044200957 0.0043186913 0.06862877 0.007770878 0.004967763 0.0155583285\\n', '0.25659704 0.09696564 0.018919913 0.091781974 0.06645966 0.026751641 0.022228265\\n', '0.33553618 0.114420846 0.061302695 0.20516406 0.07393829 0.08104244 0.02346832\\n', '0.26917976 0.08347445 0.01795343 0.10871722 0.031344093 0.014442076 0.020217655\\n', '0.23267598 0.089365266 0.014463487 0.05266834 0.048594013 0.017697591 0.02165057\\n', '0.35358635 0.13266416 0.060997523 0.26942238 0.15788339 0.22135259 0.02584878\\n', '0.26074684 0.07585573 0.015925197 0.089692734 0.020703658 0.0102674775 0.017513555\\n', '0.23092285 0.091114 0.017259905 0.051724654 0.05435886 0.020786894 0.021958858\\n', '0.32928434 0.13214758 0.06579598 0.20775391 0.08337125 0.11103495 0.025001924\\n', '0.28943053 0.10016017 0.03675376 0.15224852 0.061923556 0.027673772 0.021259855\\n', '0.18999393 0.08467912 0.01223149 0.012692612 0.04030833 0.014472385 0.020278474\\n', '0.46313095 0.2413509 0.16905054 0.5267641 0.32049352 0.5174853 0.04261638\\n', '0.26175296 0.082461625 0.022487191 0.09899143 0.031950466 0.016177723 0.01905646\\n', '0.23276302 0.098142974 0.019763313 0.06846517 0.06558077 0.023596827 0.023223922\\n', '0.29452366 0.081292525 0.022926023 0.1215793 0.03268439 0.03935079 0.0073818075\\n', '0.2639259 0.08475179 0.022431288 0.10106462 0.03139815 0.016807133 0.019004846\\n', '0.3283415 0.15195788 0.038423695 0.24489988 0.13454628 0.17183624 0.03958485\\n', '0.29412448 0.11483874 0.04981278 0.1670407 0.072125286 0.041458707 0.025006354\\n', '0.34233493 0.16171707 0.066844776 0.27305138 0.16332203 0.27562892 0.034303777\\n', '0.3043691 0.12826888 0.0642552 0.17582333 0.1071509 0.085501865 0.027709076\\n', '0.29368678 0.08201543 0.022404794 0.12238681 0.03055679 0.033837404 0.010166779\\n', '0.2935307 0.099012494 0.019880291 0.13905342 0.040210955 0.036452685 0.020344032\\n', '0.34886196 0.16600427 0.047684766 0.2851113 0.16581264 0.27524367 0.047168035\\n', '0.23363587 0.08808324 0.012900242 0.059278958 0.046069726 0.018752733 0.021325622\\n', '0.28963175 0.10242628 0.02799151 0.15869455 0.10413147 0.037922863 0.024921836\\n', '0.31381568 0.09049941 0.035208717 0.16424814 0.063869685 0.057291646 0.011760294\\n', '0.33012328 0.16322806 0.07086642 0.25338435 0.23337752 0.09707322 0.03879332\\n', '0.2799076 0.094755225 0.019406667 0.13918957 0.09423037 0.028673898 0.022471132\\n', '0.35135993 0.14262944 0.056415427 0.31091332 0.1456559 0.16123386 0.034654934\\n', '0.2644581 0.090225406 0.015792564 0.1062471 0.08110305 0.025460687 0.021075245\\n', '0.3035957 0.10333095 0.028310342 0.1373196 0.053627517 0.076991126 0.016864654\\n', '0.25210583 0.087206185 0.011457368 0.09219593 0.060448106 0.019287279 0.020567436\\n', '0.32715747 0.13880244 0.04955038 0.22761415 0.12820247 0.19716579 0.030150766\\n', '0.27315983 0.09684556 0.0225252 0.12243783 0.08747224 0.030716386 0.019567896\\n', '0.37622795 0.18930465 0.07741978 0.29612967 0.17523749 0.25216115 0.03729328\\n', '0.26847345 0.10164338 0.022535084 0.11181906 0.081175245 0.026313977 0.022055145\\n', '0.33620375 0.14623447 0.0708022 0.27137634 0.17975584 0.11125582 0.03092812\\n', '0.38902828 0.17732066 0.09671553 0.3283229 0.19018704 0.3319619 0.0302672\\n', '0.2419053 0.08871417 0.012999955 0.06954292 0.05135941 0.01573844 0.020982524\\n', '0.3864058 0.18672769 0.10837543 0.4695476 0.34034142 0.17416053 0.08783953\\n', '0.2954442 0.089067094 0.021350004 0.13485435 0.041029792 0.040681276 0.013684372\\n', '0.21843454 0.082508735 0.010121668 0.04288318 0.041296877 0.0125359 0.019916045\\n', '0.31198463 0.12823495 0.053115554 0.18186747 0.13750118 0.07827546 0.032390893\\n', '0.38863498 0.1762834 0.1268509 0.50676197 0.4205527 0.24604309 0.048750017\\n', '0.304576 0.098413475 0.02736424 0.14669609 0.05187989 0.046126626 0.016324697\\n', '0.21431448 0.08734439 0.012030244 0.026108714 0.048514947 0.015694337 0.02041316\\n', '0.29658052 0.123281725 0.039775986 0.17267615 0.11892799 0.053419236 0.029119497\\n', '0.33049756 0.13731124 0.05718273 0.29841435 0.25195572 0.12467636 0.028302185\\n', '0.30799273 0.10252354 0.028413054 0.15976849 0.060913533 0.05614385 0.016460586\\n', '0.2180178 0.09691758 0.017596507 0.049948186 0.054869574 0.020592913 0.021768253\\n', '0.26019463 0.10515169 0.026435578 0.09248179 0.079181485 0.032210246 0.022362445\\n', '0.3218892 0.121720664 0.046879284 0.25220582 0.19483887 0.083262466 0.02706527\\n', '0.32744732 0.119575314 0.044959396 0.20940225 0.087866 0.10493002 0.021505937\\n', '0.23748967 0.09515898 0.019080166 0.060253225 0.055090386 0.020373192 0.019764794\\n', '0.2976415 0.11209262 0.03796234 0.18019627 0.12691358 0.053518377 0.025301432\\n', '0.31859347 0.11149705 0.03945364 0.18446454 0.088804625 0.1517713 0.027609395\\n', '0.24265605 0.09968809 0.023278076 0.06478471 0.058260843 0.022031814 0.018699555\\n', '0.36106017 0.15141715 0.0663024 0.38885587 0.32766432 0.15262422 0.027895898\\n', '0.2969606 0.0819351 0.02423985 0.12860714 0.03798749 0.03875703 0.0073757693\\n', '0.32509357 0.1255239 0.05355184 0.27145478 0.21502337 0.07929124 0.020143472\\n', '0.36151233 0.1198055 0.085934095 0.28862578 0.10304571 0.08193231 0.024030998\\n', '0.26303563 0.09015645 0.018604139 0.09836959 0.062017813 0.023107812 0.021225268\\n', '0.35880587 0.14801516 0.079752795 0.2994637 0.12971805 0.23324881 0.029945033\\n', '0.28477913 0.10755666 0.029251656 0.1471752 0.10215067 0.037069418 0.024799954\\n', '0.46976796 0.21527427 0.1589929 0.3934152 0.16086477 0.22931705 0.03238212\\n', '0.26220247 0.09223601 0.016622229 0.11063911 0.0712094 0.024035752 0.019828394\\n', '0.30306306 0.089521535 0.027510414 0.15035985 0.04141229 0.0337048 0.011003498\\n', '0.2623679 0.09350655 0.016825147 0.107603826 0.069721 0.024010722 0.02073028\\n', '0.30899706 0.108821064 0.031115428 0.17089535 0.062520646 0.061388034 0.020915397\\n', '0.25552195 0.08948397 0.014464639 0.09062951 0.06614128 0.018953918 0.019496592\\n', '0.2862098 0.075247556 0.018230459 0.11782176 0.023289975 0.026930945 0.016488828\\n', '0.27015358 0.10286644 0.022084594 0.115067236 0.08509285 0.028898899 0.02074745\\n', '0.3744252 0.14183633 0.105308555 0.3634003 0.12925972 0.12112919 0.02287548\\n', '0.23897181 0.092001 0.016373118 0.064454176 0.057499357 0.017749693 0.019683376\\n', '0.32979858 0.10970159 0.051222924 0.19699213 0.089798324 0.1349202 0.019410048\\n', '0.2346291 0.09074004 0.01542264 0.054552324 0.050087303 0.017345881 0.01914533\\n', '0.43402055 0.19698843 0.19063224 0.5577368 0.24667856 0.2794478 0.043121018\\n', '0.24631007 0.10082308 0.020582307 0.08215312 0.08710802 0.025852729 0.026038522\\n', '0.34729913 0.172854 0.06538215 0.32391992 0.16727133 0.20527902 0.03754775\\n', '0.4641154 0.20332702 0.20218207 0.586852 0.43821594 0.35734063 0.07188576\\n', '0.3517165 0.1587714 0.081457615 0.29688352 0.13538629 0.13040349 0.034793295\\n', '0.3323922 0.15039639 0.07246389 0.26017028 0.13161853 0.14841762 0.033088207\\n', '0.3256552 0.1270187 0.054218084 0.24930397 0.16372545 0.11907042 0.025350632\\n', '0.32134813 0.13498144 0.041586537 0.22858597 0.09081596 0.08279343 0.030146912\\n', '0.32686117 0.109397694 0.053689104 0.19934528 0.07327738 0.071929894 0.01885896\\n', '0.33496672 0.12887426 0.058556635 0.26367682 0.1621407 0.14680192 0.024551243\\n', '0.326687 0.112458676 0.06201677 0.1955966 0.0896557 0.10763371 0.018401312\\n', '0.3627996 0.15174933 0.08735726 0.38336667 0.2568379 0.19135474 0.03306527\\n', '0.36160156 0.1977351 0.06679401 0.34103703 0.2076957 0.23302424 0.06161213\\n', '0.37079376 0.16636665 0.1124562 0.36304957 0.29106006 0.25586814 0.03332786\\n', '0.32498828 0.11234551 0.046214566 0.20319663 0.080420606 0.075680405 0.018553942\\n', '0.48930442 0.24444665 0.27683502 0.66277105 0.44567448 0.45238614 0.062425964\\n', '0.44727436 0.19733162 0.1720235 0.6881037 0.46264356 0.2524505 0.041747637\\n', '0.32749277 0.12910908 0.064867616 0.2538967 0.17624907 0.13335375 0.024038007\\n', '0.3369379 0.11956081 0.057315923 0.23609567 0.096966185 0.09596517 0.01491506\\n', '0.33804965 0.13673669 0.07544093 0.2643913 0.18567649 0.13588463 0.021173075\\n', '0.3333907 0.12891604 0.061346054 0.28645563 0.1889075 0.11053976 0.027033446\\n', '0.35556903 0.15206324 0.08904952 0.33983266 0.2828157 0.18842825 0.033381112\\n', '0.35382333 0.13634996 0.08118658 0.27416217 0.14612637 0.21383369 0.038532633\\n', '0.29106757 0.10833532 0.03702127 0.15001246 0.09963182 0.052284665 0.02394929\\n', '0.42646152 0.19232844 0.19369578 0.50648874 0.3105384 0.20694245 0.044132665\\n', '0.434533 0.20403036 0.13093008 0.60267746 0.592674 0.32949573 0.08339253\\n', '0.31939152 0.09771944 0.04445215 0.17359646 0.06291173 0.055624194 0.02739444\\n', '0.3005805 0.10912665 0.030839331 0.18028688 0.10895145 0.05014272 0.02379349\\n', '0.31156665 0.11413329 0.04044248 0.22275439 0.14169638 0.06923729 0.029620938\\n', '0.36694235 0.15675698 0.081965655 0.41224298 0.34502357 0.21598847 0.03236529\\n', '0.3940812 0.1842353 0.13049504 0.37648875 0.20254691 0.39994958 0.033597004\\n', '0.27341992 0.101286255 0.025121626 0.10957614 0.07605438 0.03811674 0.022003474\\n', '0.29463723 0.107085094 0.038259566 0.17685018 0.08883062 0.055842165 0.025033368\\n', '0.38699937 0.15126672 0.074627705 0.4238936 0.34694397 0.21199746 0.03710261\\n', '0.30972683 0.11920718 0.036865316 0.17821342 0.068305686 0.07515677 0.023115616\\n', '0.27777666 0.110655256 0.0340408 0.12509543 0.08806424 0.050908674 0.023623742\\n', '0.28122795 0.09987675 0.03171956 0.12681817 0.07699496 0.039341632 0.024384594\\n', '0.34152055 0.13644283 0.06740158 0.27670914 0.21164118 0.13265653 0.023684595\\n', '0.29962707 0.08753483 0.0267953 0.13834721 0.038450714 0.034868173 0.0123519\\n', '0.28889194 0.107475124 0.029542938 0.15204857 0.096063465 0.039244212 0.022093372\\n', '0.31010255 0.11404414 0.04348212 0.24546258 0.12776369 0.038659286 0.026467348\\n', '0.3478221 0.12913924 0.065202616 0.33329183 0.23081236 0.108722515 0.021741765\\n', '0.29233572 0.08028606 0.021133078 0.12879248 0.027416043 0.029722352 0.014962798\\n', '0.34404838 0.15641133 0.06914748 0.37497428 0.33410963 0.080659136 0.036317497\\n', '0.2522289 0.09018908 0.022171006 0.084508635 0.055318475 0.015435158 0.023845268\\n', '0.39880297 0.17944422 0.10645379 0.4502728 0.3706225 0.18655616 0.038247094\\n', '0.3516693 0.13016236 0.0923038 0.24746574 0.10870694 0.16761616 0.02018828\\n', '0.2768873 0.11147641 0.02521184 0.13036044 0.092620656 0.026107006 0.028367767\\n', '0.25132835 0.09405482 0.021709738 0.09154802 0.071458064 0.020757494 0.025528563\\n', '0.28931653 0.10024514 0.027822627 0.14134175 0.09285749 0.050534833 0.026384965\\n', '0.3550076 0.15401444 0.08487154 0.28258756 0.13142695 0.1577241 0.038565803\\n', '0.38669896 0.19825947 0.17232381 0.40602 0.35965282 0.14207269 0.059955515\\n', '0.23246594 0.08967042 0.0180998 0.051590975 0.04944072 0.013199316 0.02421393\\n', '0.3034668 0.10496559 0.028542606 0.1858786 0.110906765 0.06061096 0.03286995\\n', '0.31533775 0.12886517 0.032797936 0.21023698 0.06790538 0.06061768 0.030114604\\n', '0.23244262 0.09553005 0.021553174 0.06472126 0.06756066 0.020370256 0.027298355\\n', '0.2529664 0.080724694 0.014199343 0.0868406 0.049159333 0.018613009 0.021172922\\n', '0.35059622 0.11295646 0.067043416 0.24394466 0.082493745 0.07277253 0.022650095\\n', '0.27040678 0.08773186 0.017643567 0.11245209 0.06435369 0.023024987 0.02354789\\n', '0.3070889 0.104593955 0.030743416 0.16523218 0.05030339 0.059808798 0.02189918\\n', '0.2770102 0.09562306 0.027078984 0.122027256 0.07257501 0.022536078 0.026432084\\n', '0.2932772 0.08556147 0.024314806 0.13262281 0.03444064 0.03619417 0.016236736\\n', '0.25528383 0.089459784 0.021063158 0.070760675 0.058097683 0.029148944 0.02178925\\n', '0.31431636 0.10513778 0.042469 0.16881809 0.058018435 0.06054478 0.0141993305\\n', '0.2742674 0.09978292 0.028040888 0.11933353 0.0820713 0.032666136 0.02491232\\n', '0.34094033 0.14916645 0.0629442 0.27362671 0.115691155 0.115237564 0.03354614\\n', '0.18999393 0.07565599 0.006686818 0.012692612 0.03220768 0.0066319914 0.022836994\\n', '0.3801344 0.18136208 0.0987004 0.32756698 0.15626402 0.20035633 0.035766803\\n', '0.20935482 0.081763566 0.012214118 0.039299317 0.042568415 0.010567018 0.023365185\\n', '0.31444052 0.1085527 0.045597512 0.16977422 0.07210279 0.099523395 0.023821259\\n', '0.25844905 0.10181017 0.030049466 0.09733357 0.08125554 0.03173975 0.025842983\\n', '0.34308976 0.12996142 0.07436003 0.2368032 0.11837155 0.17311525 0.03270448\\n', '0.24475424 0.101139806 0.023727141 0.08061531 0.06938181 0.026871294 0.024952052\\n', '0.29465318 0.09035478 0.02536495 0.13257739 0.038908478 0.042986985 0.017619206\\n', '0.26615506 0.10996748 0.02796068 0.1322828 0.08810102 0.036375947 0.023223102\\n', '0.34658727 0.115079075 0.08084103 0.2253944 0.09041955 0.09007925 0.020254638\\n', '0.30716434 0.11559762 0.03173707 0.18119618 0.05950469 0.05930794 0.023260295\\n', '0.35330114 0.13456377 0.09176995 0.26384193 0.13467169 0.16968258 0.023346778\\n', '0.34245488 0.13057938 0.06548199 0.27610365 0.10337683 0.09648835 0.022157833\\n', '0.33787856 0.15556277 0.056035653 0.26294494 0.11022062 0.1353704 0.042509187\\n', '0.3073651 0.114238225 0.02922696 0.18152721 0.056953825 0.053810153 0.023234155\\n', '0.31492233 0.09786929 0.043638296 0.17758234 0.06546047 0.050194852 0.012877148\\n', '0.32020375 0.12641414 0.04434369 0.18469876 0.077455275 0.100606 0.025317615\\n', '0.36634186 0.13025892 0.10922227 0.25689784 0.10121901 0.12080941 0.035912216\\n', '0.32816872 0.104433514 0.050384585 0.19835876 0.061058093 0.050733555 0.019550847\\n', '0.2851985 0.07896984 0.013309786 0.11766518 0.026045164 0.028988734 0.0147563955\\n', '0.44295087 0.15943336 0.21896552 0.40776902 0.21331735 0.1837703 0.033988748\\n', '0.30473003 0.10135286 0.028351106 0.14547072 0.054431003 0.07464056 0.018912632\\n', '0.29067317 0.079791956 0.019014046 0.12010301 0.03544111 0.028505875 0.014444075\\n', '0.33503887 0.13816115 0.057167005 0.23473774 0.08551493 0.10592823 0.04128818\\n', '0.3320722 0.11215297 0.055996448 0.20380734 0.07889686 0.08264771 0.024170207\\n', '0.3379696 0.113339335 0.057686094 0.22707647 0.08500432 0.06215481 0.029681064\\n', '0.3446561 0.11321513 0.07049409 0.23966913 0.086024635 0.07087409 0.020639636\\n', '0.29351994 0.09272473 0.017022507 0.14761744 0.03634432 0.034730073 0.02158776\\n', '0.3817991 0.14204437 0.1398925 0.2876137 0.12165406 0.12979628 0.027188038\\n', '0.2952 0.08652326 0.021297364 0.13792422 0.035095405 0.035381712 0.016467093\\n', '0.28508863 0.08189668 0.018316355 0.11785067 0.019202929 0.030172192 0.018744865\\n', '0.33074278 0.10338015 0.052155647 0.19364718 0.06181606 0.05126558 0.017731503\\n', '0.33496645 0.11033208 0.06672293 0.21681602 0.07642467 0.052906215 0.019318897\\n', '0.31057566 0.099030785 0.03418494 0.17404673 0.052616697 0.042959396 0.020713253\\n', '0.3892671 0.14940137 0.14610493 0.34446347 0.1444888 0.23328653 0.027766418\\n', '0.33005777 0.10678761 0.0623885 0.18903406 0.07693822 0.072625786 0.023908773\\n', '0.32517534 0.09729661 0.047239594 0.18690966 0.056226917 0.037972223 0.017708285\\n', '0.31088972 0.092056 0.035396077 0.16556503 0.054306995 0.040445957 0.014500901\\n', '0.29031634 0.07748434 0.021526648 0.12583376 0.02773613 0.024784006 0.012769196\\n', '0.3024944 0.0911628 0.023011722 0.15199178 0.038657162 0.043122143 0.019216467\\n', '0.3128725 0.097735465 0.032864198 0.17907856 0.040743683 0.041908767 0.01678926\\n', '0.30414417 0.11050586 0.028498074 0.1648939 0.048577696 0.061296284 0.024659079\\n', '0.32142907 0.11489398 0.04502657 0.1983198 0.06454508 0.06378064 0.02558822\\n', '0.30036247 0.11283947 0.024767522 0.16705461 0.049781024 0.036216196 0.02451216\\n', '0.31375518 0.11599056 0.034875073 0.19422933 0.05717267 0.07161375 0.02718859\\n', '0.29161257 0.08388655 0.015878914 0.13260253 0.03163307 0.032423712 0.02396849\\n', '0.33980697 0.12238607 0.073341936 0.2240184 0.08503477 0.09182012 0.020051276\\n', '0.35460234 0.1753628 0.066084296 0.28995785 0.14527574 0.15085082 0.040801585\\n', '0.31171262 0.12340043 0.039398514 0.19030343 0.07049103 0.06906616 0.02610157\\n', '0.3812332 0.13609307 0.14030807 0.28584543 0.13125485 0.18217495 0.026635187\\n', '0.3111561 0.09722519 0.041622475 0.16218282 0.052336685 0.054735772 0.013771307\\n', '0.3482393 0.10947961 0.07048004 0.23576294 0.067545585 0.047939975 0.02070133\\n', '0.3126455 0.11839131 0.033649564 0.20090236 0.058673415 0.040274408 0.032373667\\n', '0.33263513 0.121309794 0.04664869 0.22377191 0.07964896 0.09798757 0.021807801\\n', '0.2845103 0.09737797 0.015016515 0.12137775 0.03397236 0.033993814 0.025178086\\n', '0.2981478 0.10909813 0.02149014 0.15199946 0.056356996 0.066276796 0.024638264\\n', '0.3235435 0.123710625 0.03939352 0.23193982 0.07843042 0.063590646 0.031508554\\n', '0.3722565 0.1492402 0.13322282 0.3251461 0.14059171 0.18508798 0.026305852\\n', '0.33291525 0.10985853 0.049106415 0.20582898 0.073739745 0.082399346 0.023404252\\n', '0.30530012 0.092977606 0.029503232 0.1509058 0.038479056 0.031346526 0.016436473\\n', '0.30845875 0.09598623 0.032487746 0.1571074 0.04327306 0.035574876 0.01545653\\n', '0.32766092 0.10976252 0.053116005 0.19844243 0.06261132 0.06223632 0.017081918\\n', '0.34331077 0.14565834 0.05381961 0.24002127 0.12735438 0.17651922 0.03230563\\n', '0.2985429 0.09610513 0.021793092 0.13715255 0.04460158 0.054606177 0.015730297\\n', '0.29287404 0.09402859 0.020313654 0.12947005 0.03382685 0.035690278 0.016578013\\n', '0.3047645 0.10811387 0.027863033 0.15288895 0.050768375 0.07399761 0.018960543\\n', '0.32149494 0.12925258 0.04013829 0.21189724 0.07341008 0.0773426 0.03235498\\n', '0.37272254 0.20482044 0.08791966 0.33506894 0.19704878 0.20122159 0.05964959\\n', '0.37908736 0.1892152 0.07818303 0.34369144 0.18332563 0.2682826 0.046695035\\n', '0.36847 0.20081823 0.076700956 0.32680717 0.23238455 0.20218286 0.05858151\\n', '0.31198102 0.125004 0.032158602 0.18632625 0.08003235 0.096535884 0.026390301\\n', '0.32671362 0.12149741 0.05109734 0.19965257 0.07338212 0.10056785 0.024869816\\n']\n",
      "[[0.26788718, 0.1284177], [0.2876432, 0.14041018], [0.29648992, 0.1407559], [0.29182884, 0.20756415], [0.26657936, 0.12933503], [0.25360742, 0.120645836], [0.28702927, 0.13992581], [0.30390927, 0.21911404], [0.2517318, 0.1267463], [0.25934082, 0.12091912], [0.29086474, 0.15330791], [0.26588833, 0.13136096], [0.28001058, 0.1375739], [0.25852022, 0.12996843], [0.26887143, 0.13971637], [0.26712018, 0.1347671], [0.32145724, 0.19240665], [0.26589864, 0.13344833], [0.3234004, 0.19168772], [0.28677338, 0.14541918], [0.28619978, 0.1530392], [0.27483577, 0.13917056], [0.30201805, 0.19392373], [0.2828664, 0.1536415], [0.30709556, 0.18036926], [0.26874986, 0.17907755], [0.29728082, 0.18291768], [0.26056603, 0.13873799], [0.31573924, 0.18221906], [0.3265879, 0.19146855], [0.2429725, 0.13799436], [0.25356796, 0.12939373], [0.25640905, 0.13100334], [1.0, 1.0], [0.32316297, 0.22676347], [0.28760642, 0.15079992], [0.31315833, 0.17260085], [0.29808462, 0.21625198], [0.26177338, 0.123818114], [0.33605966, 0.18201764], [0.2882548, 0.20440127], [0.2989026, 0.14144945], [0.31473246, 0.16647744], [0.2825468, 0.20362228], [0.25965, 0.11318258], [0.37795153, 0.21404043], [0.32562473, 0.18229325], [0.29877493, 0.17631848], [0.23605883, 0.10045691], [0.32131365, 0.16495448], [0.37465313, 0.21069357], [0.28912434, 0.15207942], [0.25903863, 0.10721531], [0.3190742, 0.16503009], [0.27833652, 0.14419101], [0.39478606, 0.21597931], [0.30610082, 0.16595078], [0.24632736, 0.10146723], [0.3296216, 0.15624347], [0.2921994, 0.14677635], [0.32549146, 0.17289355], [0.29031372, 0.15239264], [0.2495617, 0.09993899], [0.3363202, 0.15532933], [0.3033262, 0.15739658], [0.27880874, 0.14002436], [0.34807858, 0.22262841], [0.29223654, 0.1515578], [0.26106405, 0.10829111], [0.32502374, 0.14825138], [0.29743585, 0.1479844], [0.3147996, 0.15963367], [0.31422874, 0.1660708], [0.29029632, 0.14638083], [0.25667432, 0.1055416], [0.2867396, 0.12003419], [0.26624668, 0.12527925], [0.26624435, 0.12632361], [0.37848356, 0.27098826], [0.2875327, 0.14026906], [0.29017353, 0.13245155], [0.28432754, 0.115338996], [0.25345585, 0.11406642], [0.2860527, 0.13491735], [0.7308894, 0.3811209], [0.3796751, 0.24336047], [0.29629812, 0.14638725], [0.27296942, 0.12236934], [0.28697646, 0.11270864], [0.27313265, 0.123944744], [0.28731728, 0.12852395], [0.33609495, 0.15871114], [0.33606568, 0.1888602], [0.28813326, 0.13237919], [0.29268894, 0.13706584], [0.27064672, 0.10223087], [0.2726799, 0.11667707], [0.38764524, 0.20335847], [0.3540432, 0.1783157], [0.29637945, 0.1324686], [0.28660426, 0.111566834], [0.30881387, 0.13327411], [0.27442852, 0.113456964], [0.3617986, 0.17493126], [0.3048367, 0.13695937], [0.27514255, 0.104901336], [0.2682185, 0.10474059], [0.27338988, 0.112742834], [0.32212785, 0.13158225], [0.2655937, 0.0996047], [0.2553475, 0.09308864], [0.26564452, 0.10150524], [0.31697538, 0.12393437], [0.33943, 0.15100114], [0.2855074, 0.109314196], [0.28826386, 0.11785959], [0.3970362, 0.1702819], [0.5111671, 0.20757185], [0.355272, 0.14546177], [0.2731668, 0.10903165], [0.33772665, 0.14409962], [0.26335874, 0.089268774], [0.8993588, 0.4659546], [0.34589106, 0.13555664], [0.40960532, 0.16992523], [0.3960596, 0.21535796], [0.29187635, 0.107700005], [0.27796954, 0.0967165], [0.32045868, 0.12112035], [0.30077732, 0.12532595], [0.27154908, 0.09658326], [0.28269893, 0.10696587], [0.27403206, 0.043225665], [0.3077113, 0.116620064], [0.3138252, 0.12543583], [0.34618112, 0.13290866], [0.3334643, 0.12951672], [0.27536, 0.043225665], [0.28024566, 0.10149992], [0.2788473, 0.09187907], [0.36115316, 0.14697784], [0.34311014, 0.13478331], [0.33105984, 0.112981856], [0.28833207, 0.110855356], [0.23860383, 0.07274921], [0.3613485, 0.14814681], [0.5473565, 0.2292984], [0.29195735, 0.07042917], [0.28217977, 0.106190644], [0.25088254, 0.08329236], [0.49526387, 0.22332747], [0.4033252, 0.15840587], [0.2834202, 0.06407858], [0.2836513, 0.109670214], [0.2648781, 0.099514216], [0.3655369, 0.14764787], [0.3269015, 0.12693878], [0.27957487, 0.063204765], [0.26924232, 0.10569264], [0.24251229, 0.07639125], [0.3464778, 0.13792247], [0.2796318, 0.0584988], [0.33656228, 0.15940852], [0.24484076, 0.086763255], [0.5673103, 0.26307628], [0.45775712, 0.17782782], [0.28671968, 0.066152945], [0.36718082, 0.17867221], [0.278131, 0.105408065], [0.33505648, 0.13216758], [0.65031147, 0.25513276], [0.34334594, 0.14227241], [0.3350579, 0.156862], [0.30619523, 0.13023518], [0.32451776, 0.13600354], [0.2953189, 0.11045011], [0.29379737, 0.079770036], [0.273929, 0.09966979], [0.27826518, 0.105358474], [0.31313363, 0.116875425], [0.32024777, 0.13280056], [0.29734766, 0.083834894], [0.31272912, 0.1269327], [0.29902285, 0.1138688], [0.29436353, 0.10354421], [0.3546536, 0.15025124], [0.2897468, 0.07024027], [0.31298205, 0.1276521], [0.27022785, 0.10071394], [0.27996874, 0.097060055], [0.31727073, 0.09857529], [0.3074376, 0.13077435], [0.24964556, 0.088522196], [0.315698, 0.12500846], [0.2884465, 0.07815056], [0.31764546, 0.13882802], [0.33780116, 0.15417758], [0.39078876, 0.17602329], [0.32643723, 0.13138302], [0.28371966, 0.063121274], [0.28045323, 0.11931178], [0.26460338, 0.094474465], [0.2710781, 0.090799175], [0.34281313, 0.14274976], [0.29127046, 0.078793816], [0.2789737, 0.11893067], [0.34588215, 0.14766107], [0.36372557, 0.1467812], [0.3452081, 0.15593764], [0.30308235, 0.08743418], [0.30367362, 0.12215474], [0.29619375, 0.10433817], [0.48633197, 0.21407838], [0.30908805, 0.085998684], [0.27576107, 0.106941015], [0.25121027, 0.07691892], [0.345087, 0.15154478], [0.2907834, 0.06251809], [0.28319383, 0.113184765], [0.26677346, 0.09070667], [0.30453354, 0.11866393], [0.29085502, 0.07890215], [0.34435698, 0.15233861], [0.46986023, 0.21837322], [0.39396134, 0.16748574], [0.28572512, 0.06807312], [0.2842463, 0.1211194], [0.24410473, 0.08566319], [0.30831635, 0.121373944], [0.31051856, 0.08650885], [0.2995968, 0.13067827], [0.2810026, 0.10555144], [0.3423214, 0.13167416], [0.32414737, 0.099048264], [0.25511295, 0.09252508], [0.35834873, 0.14719239], [0.30958682, 0.11120153], [0.3268526, 0.13179351], [0.29818216, 0.10860273], [0.3404787, 0.11680716], [0.2794275, 0.106716104], [0.3068295, 0.11008018], [0.31469783, 0.104042165], [0.26817837, 0.10462199], [0.29776555, 0.109644525], [0.3457633, 0.11445247], [0.25126877, 0.0989358], [0.31593594, 0.12392265], [0.34262896, 0.1136689], [0.25186035, 0.105073474], [0.2927131, 0.10965025], [0.30396432, 0.08403422], [0.29097992, 0.12579991], [0.27709302, 0.10371863], [0.31768593, 0.1034599], [0.2661097, 0.096115865], [0.3098044, 0.09418772], [0.30396023, 0.11265011], [0.29859367, 0.08904237], [0.2726212, 0.095186085], [0.28227916, 0.06808842], [0.3023724, 0.11824919], [0.36378336, 0.1297045], [0.31609854, 0.14189135], [0.30240908, 0.080143645], [0.3031437, 0.12496943], [0.2940101, 0.07982938], [0.28174427, 0.115946956], [0.30636802, 0.09099324], [0.30525288, 0.13740359], [0.30507708, 0.09235923], [0.30357993, 0.13605247], [0.310745, 0.08921813], [0.31158665, 0.098005824], [0.29659283, 0.07460478], [0.38219562, 0.1407957], [0.2977594, 0.08499996], [0.31875658, 0.12767662], [0.30068225, 0.0857487], [0.39605165, 0.15919784], [0.34126303, 0.11757661], [0.37799755, 0.1559222], [0.34643406, 0.12942277], [0.31986156, 0.105544835], [0.29662156, 0.09858766], [0.3076072, 0.10080955], [0.33709288, 0.1859561], [0.3523641, 0.1673176], [0.38416287, 0.1881344], [0.41364422, 0.22830786], [0.30350047, 0.09497509], [0.35110876, 0.14953184], [0.37713376, 0.19707619], [0.37098825, 0.16953371], [0.4229107, 0.20671245], [0.32177904, 0.15308648], [0.32864657, 0.15471442], [0.3439436, 0.15797976], [0.3663194, 0.17899783], [0.32253435, 0.13523665], [0.3052496, 0.10143851], [0.3055588, 0.101762325], [0.34046715, 0.12916574], [0.31877717, 0.13723385], [0.35651273, 0.16076548], [0.31490082, 0.098489255], [0.34422716, 0.12620896], [0.45272115, 0.17547867], [0.29897672, 0.10355302], [0.34249625, 0.12841713], [0.31646428, 0.11083869], [0.34521067, 0.12190874], [0.38767436, 0.17136042], [0.7047772, 0.35480657], [0.3455785, 0.17203367], [0.34650245, 0.14967823], [0.31204188, 0.09913838], [0.3390387, 0.14139222], [0.30762574, 0.08924822], [0.34073296, 0.13707553], [0.35938838, 0.1224958], [0.36814103, 0.16087252], [0.4284262, 0.21505703], [0.33825013, 0.1321457], [0.35658386, 0.12630115], [0.3344403, 0.13705815], [0.398661, 0.21854804], [0.33315188, 0.13876034], [0.35646513, 0.13252823], [0.28125936, 0.10125903], [0.3781684, 0.2062267], [0.30602643, 0.119464815], [0.3178637, 0.10465172], [0.26544136, 0.096669376], [0.3181226, 0.10801896], [0.27133954, 0.098413706], [0.35919344, 0.18169226], [0.31633484, 0.13653968], [0.35405585, 0.19190498], [0.2902043, 0.12315895], [0.39548287, 0.19350317], [0.26216218, 0.10938832], [0.3833656, 0.15519011], [0.3291627, 0.12624004], [0.32003748, 0.10689313], [0.3149115, 0.13157465], [0.33463803, 0.14209442], [0.3545565, 0.16420893], [0.33310387, 0.16966507], [0.40012944, 0.16700624], [0.34594768, 0.17703402], [0.40982604, 0.18782027], [0.32739532, 0.14527863], [0.39518315, 0.17939693], [0.3180725, 0.1062915], [0.3530208, 0.15381952], [0.34169036, 0.16690427], [0.29933265, 0.10598215], [0.3359301, 0.17606005], [0.34201697, 0.13878933], [0.40252173, 0.19928905], [0.3097998, 0.1136056], [0.32853454, 0.15843184], [0.27850485, 0.09610422], [0.29707935, 0.10455462], [0.27135327, 0.08850726], [0.3188225, 0.11586401], [0.2745934, 0.088758506], [0.36681336, 0.15618835], [0.2988579, 0.11389979], [0.3204481, 0.10632938], [0.2790254, 0.1032079], [0.3533825, 0.12174564], [0.2511925, 0.08698803], [0.3273535, 0.111330785], [0.30180377, 0.10088263], [0.26158237, 0.09442143], [0.34502158, 0.13291982], [0.34801757, 0.13971435], [0.22545688, 0.08695684], [0.28817123, 0.09477095], [0.420264, 0.16895394], [0.2674433, 0.11564049], [0.353664, 0.1401499], [0.36225274, 0.13479525], [0.23829581, 0.10035437], [0.26937008, 0.08311388], [0.3122046, 0.118025914], [0.35621834, 0.13320671], [0.27179614, 0.085840516], [0.3244591, 0.12155301], [0.3944577, 0.2327326], [0.24896647, 0.08100484], [0.34511656, 0.13561821], [0.33317873, 0.11038815], [0.26035947, 0.086301014], [0.33264792, 0.13370606], [0.36055574, 0.12923507], [0.22970484, 0.08037116], [0.31898308, 0.122983776], [0.5055619, 0.21157461], [0.30566725, 0.12385763], [0.2603605, 0.09875823], [0.28337848, 0.086489804], [0.3421691, 0.11411742], [0.22945638, 0.089757636], [0.32629508, 0.1325205], [0.38458592, 0.13786988], [0.25447118, 0.10358273], [0.30017367, 0.106088474], [0.3130962, 0.10858226], [0.2591285, 0.10834481], [0.31546545, 0.11532542], [0.37154394, 0.14559162], [0.25457174, 0.079062425], [0.32358912, 0.14949197], [0.33148292, 0.117644936], [0.26357967, 0.086238354], [0.35419196, 0.16019093], [0.38627955, 0.20156714], [0.2644599, 0.08246288], [0.340884, 0.15382896], [0.33221406, 0.15894584], [0.2372022, 0.076509885], [0.35701734, 0.17300798], [0.30812773, 0.098786965], [0.24212196, 0.091783755], [0.29958242, 0.09280564], [0.24428132, 0.08649311], [0.34416857, 0.17538464], [0.23548281, 0.08462717], [0.52990705, 0.31881893], [0.21582648, 0.08419773], [0.29963794, 0.11775015], [0.33309597, 0.11386484], [0.29035833, 0.136673], [0.30073735, 0.09440796], [0.30592147, 0.10156025], [0.33163613, 0.12616667], [0.34864512, 0.15115304], [0.29544425, 0.08405126], [0.29447025, 0.12191418], [0.30118737, 0.10840321], [0.35974836, 0.13116243], [0.3340731, 0.14461298], [0.31719476, 0.111572616], [0.3455555, 0.15482184], [0.34009612, 0.14324367], [0.3067953, 0.09441877], [0.34608102, 0.11891493], [0.34063917, 0.141012], [0.34178534, 0.15657331], [0.271868, 0.07225989], [0.3330815, 0.13835031], [0.30353406, 0.0950148], [0.30293727, 0.10688569], [0.310409, 0.114662424], [0.32338086, 0.11126723], [0.2956349, 0.08830491], [0.3316124, 0.13371195], [0.32752648, 0.12497889], [0.27422187, 0.07860101], [0.29242596, 0.10461834], [0.29377407, 0.10344568], [0.30528155, 0.11269627], [0.2987935, 0.115599036], [0.31878945, 0.117140844], [0.2851761, 0.08377114], [0.34302923, 0.1337068], [0.32830298, 0.14028104], [0.3086424, 0.10428801], [0.299034, 0.11190876], [0.33983377, 0.16589183], [0.26429483, 0.06496194], [0.31324387, 0.12107023], [0.31395057, 0.10432254], [0.28283647, 0.093716994], [0.289989, 0.10079896], [0.33363643, 0.14942569], [0.2609527, 0.05828584], [0.24553293, 0.07839711], [0.2898281, 0.09623388], [0.33166584, 0.12052047], [0.26738527, 0.065012045], [0.2668621, 0.091299504], [0.31452543, 0.11828025], [0.3529765, 0.18163678], [0.26380756, 0.06412785], [0.22367695, 0.07573181], [0.32135376, 0.121269666], [0.3175683, 0.14520508], [0.3143822, 0.121308915], [0.29650435, 0.12078418], [0.2816454, 0.09129747], [0.32066125, 0.1442422], [0.2753551, 0.080870226], [0.25166425, 0.10102223], [0.3397839, 0.14628196], [0.30289763, 0.10009791], [0.2671827, 0.07572694], [0.27276823, 0.12094334], [0.25844744, 0.08244038], [0.33402914, 0.1076421], [0.30733767, 0.11203546], [0.24238959, 0.082728274], [0.3115196, 0.09295347], [0.24565803, 0.044200957], [0.25659704, 0.09696564], [0.33553618, 0.114420846], [0.26917976, 0.08347445], [0.23267598, 0.089365266], [0.35358635, 0.13266416], [0.26074684, 0.07585573], [0.23092285, 0.091114], [0.32928434, 0.13214758], [0.28943053, 0.10016017], [0.18999393, 0.08467912], [0.46313095, 0.2413509], [0.26175296, 0.082461625], [0.23276302, 0.098142974], [0.29452366, 0.081292525], [0.2639259, 0.08475179], [0.3283415, 0.15195788], [0.29412448, 0.11483874], [0.34233493, 0.16171707], [0.3043691, 0.12826888], [0.29368678, 0.08201543], [0.2935307, 0.099012494], [0.34886196, 0.16600427], [0.23363587, 0.08808324], [0.28963175, 0.10242628], [0.31381568, 0.09049941], [0.33012328, 0.16322806], [0.2799076, 0.094755225], [0.35135993, 0.14262944], [0.2644581, 0.090225406], [0.3035957, 0.10333095], [0.25210583, 0.087206185], [0.32715747, 0.13880244], [0.27315983, 0.09684556], [0.37622795, 0.18930465], [0.26847345, 0.10164338], [0.33620375, 0.14623447], [0.38902828, 0.17732066], [0.2419053, 0.08871417], [0.3864058, 0.18672769], [0.2954442, 0.089067094], [0.21843454, 0.082508735], [0.31198463, 0.12823495], [0.38863498, 0.1762834], [0.304576, 0.098413475], [0.21431448, 0.08734439], [0.29658052, 0.123281725], [0.33049756, 0.13731124], [0.30799273, 0.10252354], [0.2180178, 0.09691758], [0.26019463, 0.10515169], [0.3218892, 0.121720664], [0.32744732, 0.119575314], [0.23748967, 0.09515898], [0.2976415, 0.11209262], [0.31859347, 0.11149705], [0.24265605, 0.09968809], [0.36106017, 0.15141715], [0.2969606, 0.0819351], [0.32509357, 0.1255239], [0.36151233, 0.1198055], [0.26303563, 0.09015645], [0.35880587, 0.14801516], [0.28477913, 0.10755666], [0.46976796, 0.21527427], [0.26220247, 0.09223601], [0.30306306, 0.089521535], [0.2623679, 0.09350655], [0.30899706, 0.108821064], [0.25552195, 0.08948397], [0.2862098, 0.075247556], [0.27015358, 0.10286644], [0.3744252, 0.14183633], [0.23897181, 0.092001], [0.32979858, 0.10970159], [0.2346291, 0.09074004], [0.43402055, 0.19698843], [0.24631007, 0.10082308], [0.34729913, 0.172854], [0.4641154, 0.20332702], [0.3517165, 0.1587714], [0.3323922, 0.15039639], [0.3256552, 0.1270187], [0.32134813, 0.13498144], [0.32686117, 0.109397694], [0.33496672, 0.12887426], [0.326687, 0.112458676], [0.3627996, 0.15174933], [0.36160156, 0.1977351], [0.37079376, 0.16636665], [0.32498828, 0.11234551], [0.48930442, 0.24444665], [0.44727436, 0.19733162], [0.32749277, 0.12910908], [0.3369379, 0.11956081], [0.33804965, 0.13673669], [0.3333907, 0.12891604], [0.35556903, 0.15206324], [0.35382333, 0.13634996], [0.29106757, 0.10833532], [0.42646152, 0.19232844], [0.434533, 0.20403036], [0.31939152, 0.09771944], [0.3005805, 0.10912665], [0.31156665, 0.11413329], [0.36694235, 0.15675698], [0.3940812, 0.1842353], [0.27341992, 0.101286255], [0.29463723, 0.107085094], [0.38699937, 0.15126672], [0.30972683, 0.11920718], [0.27777666, 0.110655256], [0.28122795, 0.09987675], [0.34152055, 0.13644283], [0.29962707, 0.08753483], [0.28889194, 0.107475124], [0.31010255, 0.11404414], [0.3478221, 0.12913924], [0.29233572, 0.08028606], [0.34404838, 0.15641133], [0.2522289, 0.09018908], [0.39880297, 0.17944422], [0.3516693, 0.13016236], [0.2768873, 0.11147641], [0.25132835, 0.09405482], [0.28931653, 0.10024514], [0.3550076, 0.15401444], [0.38669896, 0.19825947], [0.23246594, 0.08967042], [0.3034668, 0.10496559], [0.31533775, 0.12886517], [0.23244262, 0.09553005], [0.2529664, 0.080724694], [0.35059622, 0.11295646], [0.27040678, 0.08773186], [0.3070889, 0.104593955], [0.2770102, 0.09562306], [0.2932772, 0.08556147], [0.25528383, 0.089459784], [0.31431636, 0.10513778], [0.2742674, 0.09978292], [0.34094033, 0.14916645], [0.18999393, 0.07565599], [0.3801344, 0.18136208], [0.20935482, 0.081763566], [0.31444052, 0.1085527], [0.25844905, 0.10181017], [0.34308976, 0.12996142], [0.24475424, 0.101139806], [0.29465318, 0.09035478], [0.26615506, 0.10996748], [0.34658727, 0.115079075], [0.30716434, 0.11559762], [0.35330114, 0.13456377], [0.34245488, 0.13057938], [0.33787856, 0.15556277], [0.3073651, 0.114238225], [0.31492233, 0.09786929], [0.32020375, 0.12641414], [0.36634186, 0.13025892], [0.32816872, 0.104433514], [0.2851985, 0.07896984], [0.44295087, 0.15943336], [0.30473003, 0.10135286], [0.29067317, 0.079791956], [0.33503887, 0.13816115], [0.3320722, 0.11215297], [0.3379696, 0.113339335], [0.3446561, 0.11321513], [0.29351994, 0.09272473], [0.3817991, 0.14204437], [0.2952, 0.08652326], [0.28508863, 0.08189668], [0.33074278, 0.10338015], [0.33496645, 0.11033208], [0.31057566, 0.099030785], [0.3892671, 0.14940137], [0.33005777, 0.10678761], [0.32517534, 0.09729661], [0.31088972, 0.092056], [0.29031634, 0.07748434], [0.3024944, 0.0911628], [0.3128725, 0.097735465], [0.30414417, 0.11050586], [0.32142907, 0.11489398], [0.30036247, 0.11283947], [0.31375518, 0.11599056], [0.29161257, 0.08388655], [0.33980697, 0.12238607], [0.35460234, 0.1753628], [0.31171262, 0.12340043], [0.3812332, 0.13609307], [0.3111561, 0.09722519], [0.3482393, 0.10947961], [0.3126455, 0.11839131], [0.33263513, 0.121309794], [0.2845103, 0.09737797], [0.2981478, 0.10909813], [0.3235435, 0.123710625], [0.3722565, 0.1492402], [0.33291525, 0.10985853], [0.30530012, 0.092977606], [0.30845875, 0.09598623], [0.32766092, 0.10976252], [0.34331077, 0.14565834], [0.2985429, 0.09610513], [0.29287404, 0.09402859], [0.3047645, 0.10811387], [0.32149494, 0.12925258], [0.37272254, 0.20482044], [0.37908736, 0.1892152], [0.36847, 0.20081823], [0.31198102, 0.125004], [0.32671362, 0.12149741]]\n"
     ]
    }
   ],
   "source": [
    "print(cc)\n",
    "\n",
    "unc_xy = []\n",
    "for val in cc:\n",
    "    unc_x, unc_y = val.split()[0], val.split()[1]\n",
    "    unc_xy.append([float(unc_x), float(unc_y)])\n",
    "print(unc_xy)\n"
   ]
  },
  {
   "cell_type": "code",
   "execution_count": 52,
   "metadata": {},
   "outputs": [
    {
     "name": "stdout",
     "output_type": "stream",
     "text": [
      "0.18891776 0.0733324 0.016994929 0.13487239 0.041829463 0.02634087 0.3300488 "
     ]
    }
   ],
   "source": [
    "import properscoring as ps\n",
    "# Calculate CRPS\n",
    "lim = 50000\n",
    "for i in range(7):\n",
    "    print(ps.crps_gaussian(conf_file['target'][:lim,i], \n",
    "                    conf_file['pred'][:lim,i],  \n",
    "                    epis[:lim,i]).mean(), end=\" \")"
   ]
  },
  {
   "cell_type": "code",
   "execution_count": 53,
   "metadata": {},
   "outputs": [
    {
     "name": "stdout",
     "output_type": "stream",
     "text": [
      "[7.334404930448682, 1.121354836861077, -1.8993195756379326, 0.9353513820751551, -1.1347795491255777, -0.7887986842140027, 1.0750300120543872] "
     ]
    }
   ],
   "source": [
    "# Calculate NLL on the entire training dataset \n",
    "all_ones = [1] * 7\n",
    "print(calc_nll(all_ones, conf_file, epis, lim=50000), end=\" \")"
   ]
  },
  {
   "cell_type": "code",
   "execution_count": null,
   "metadata": {},
   "outputs": [],
   "source": [
    "# HYPERPARAMETER FOR THE WHOLE TRAINING DATA\n",
    "# MEDL-U\n",
    "# 1: [1.8916779608917593, 0.36809608759642537, -1.7675250460577996, 1.0118631013098256, -0.970061202928357, -1.1995424102378232, 1.257268771946169] CHECK\n",
    "# 2: [1.825286467336317, 0.5185895890092543, -1.030445882459965, 0.07405658627213153, -0.5500430400538349, -0.8445233412170869, 0.8993105384895271] \n",
    "# 3: [1.816468022215171, 0.6636960972299727, -0.3910369981887675, 0.31591179901985383, -0.07394111771881011, -0.26886930491055566, 0.9800660989791639] \n",
    "\n",
    "#1.5iqr [2.9836013982741396, -0.7257483185789653, -1.4007537963723797, 0.5824424538905885, -0.5800258687200076, -0.8165559384425344, 4.248328724793688] \n",
    "#4.5iqr [3.6419537820284194, -0.6416248620564736, -1.507133545764, 0.7241091089349138, -0.8025371616513934, -0.9128795481207492, 4.156937396511666] \n",
    "#6iqr   [3.8383088385725093, -0.5669571134663834, -1.5608485441032358, 0.7736074953514998, -0.8125239731051168, -0.9486104791708864, 3.9667013030985157] \n",
    "#8iqr   [4.092201303047635, -0.5049773343643155, -1.5973073491018837, 0.8083864138213941, -0.8766649696196862, -0.9619316400681239, 3.711214245096322] \n",
    "#10iqr  [4.240735519473552, -0.45436974166176064, -1.6214750982481039, 0.8469450220159161, -0.8965202023572193, -0.966736631439208, 3.438662245728042] \n",
    "\n",
    "# NO OUTLIER REMOVED\n",
    "# [2.564728291910733, 0.2139111194123225, -1.7761116564408617, 0.8654339560687011, -0.8979566441970577, -1.0400875302165888, 2.9752760842297916] \n",
    "\n",
    "# TRANSITION FROM 1 to OPTIMAL:\n",
    "# OPTIMAL FACTOR: [6.810000000000005, 1.1300000000000001, 1.1300000000000001, 1.5000000000000004, 1.1600000000000001, 1.1700000000000002, 1.6600000000000006]\n",
    "# OPTIMAL NLL: [1.8132241697676386, 0.34512175559710895, -2.0609452950769445, -0.03239638423379769, -1.2380928483102418, -1.6777669876192918, 0.8831652149147372]\n",
    "\n",
    "\n",
    "# no multiloss no iou \n",
    "# [6.4429382785899625, 1.5963120165131757, -1.774869101282641, 0.9351202699962041, -0.8609176107095616, -0.5588928115236125, 2.733516695314039] \n",
    "# [2.1873997306918476, 0.3444917682138197, -1.7111052696575662, 0.6114028136830387, -1.0744279801441308, -1.0293473645593496, 2.942066727543684] \n",
    "\n",
    "\n",
    "\n",
    "\n",
    "# MCDO\n",
    "# NO OUTLIER REMOVED\n",
    "# [3.0515182429418486, 3.352756929716658, 2.7387841827674717, 11.938571137835693, 3.21300018917621, -0.49485147580083255, 14.204717714755883] \n",
    "\n",
    "# CONF\n",
    "# NO OUTLIER REMOVED\n",
    "# [4.340099662187645, 1.752480354847797, -1.8777142842875898, 4.105971368057867, 1.6979318699638553, -1.3706581794657013, 9.647335435319908] \n",
    "\n",
    "# Ensemble\n",
    "# 1: [4.403579778010997, 0.07493490450071723, -1.4959248701215937, 0.5913755337036962, -1.2249633047217738, -0.7144308775683946, 0.9235981195900996] \n",
    "# 2: [1.5606964551344864, -0.05994793303699632, -0.5669022426156356, -0.01165989304650495, -0.41798664593671947, -1.032132389249797, 1.0071659340538337] CHECK\n",
    "# 3: [1.4251483090847685, 0.25126205771380883, -0.07895930234411103, 0.26744425536496186, 0.02176178757594511, -0.39290818105637326, 1.059838794626867]\n",
    "\n",
    "#1.5iqr [2.1682312717439767, -0.5920600798779405, -1.1807851696468707, 0.07619226048902793, 0.016091786442423876, -1.4854572783107984, 0.922830315404245]\n",
    "#10iqr  [3.5223038595464797, -0.3784027182205729, -1.4341608383037232, 0.5578446351018669, -0.2136971942765518, -1.0431823589148623, 0.922830315404245] \n",
    "\n",
    "# NO OUTLIER REMOVED\n",
    "# [4.060729401505149, -0.149740109665844, -1.43966024816947, 0.557200123059915, -0.948043484114098, -1.0270545130545827, 0.9228576722450789]\n",
    "\n",
    "# TRANSITION FROM 1 to OPTIMAL:\n",
    "# OPTIMAL FACTOR: [3.5100000000000025, 1.3000000000000003, 1.05, 1.4000000000000004, 1.06, 1.2200000000000002, 1.0]\n",
    "# OPTIMAL NLL: [1.419099890151247, -0.3249343429612282, -1.516931273811882, -0.19390358845041608, -1.273428217963031, -1.8891258188115523, 0.9235981195900996]"
   ]
  },
  {
   "cell_type": "code",
   "execution_count": null,
   "metadata": {},
   "outputs": [],
   "source": [
    "# 200 Frames\n",
    "# 8.3.v3\n",
    "# [4.288674361965199, 0.2589242681056312, -1.7130448735593966, 0.3893145876103043, -0.8592942704672661, -0.8127927737403137, 0.6405865156262938]"
   ]
  },
  {
   "cell_type": "code",
   "execution_count": null,
   "metadata": {},
   "outputs": [],
   "source": [
    "# 125 Frames\n",
    "# 8.4.v2\n",
    "# [5.943013707956682, 0.40020882926632706, -1.5653226620475253, 0.3088395493592805, -0.9332622601417606, -1.0512136532320229, 0.8304838609452505]\n",
    "# [9.990000000000007, 7.300000000000006, 2.4000000000000012, 3.990000000000003, 1.8800000000000008, 1.6600000000000006, 9.990000000000007]"
   ]
  }
 ],
 "metadata": {
  "kernelspec": {
   "display_name": "pcdet",
   "language": "python",
   "name": "python3"
  },
  "language_info": {
   "codemirror_mode": {
    "name": "ipython",
    "version": 3
   },
   "file_extension": ".py",
   "mimetype": "text/x-python",
   "name": "python",
   "nbconvert_exporter": "python",
   "pygments_lexer": "ipython3",
   "version": "3.8.13"
  },
  "orig_nbformat": 4
 },
 "nbformat": 4,
 "nbformat_minor": 2
}
